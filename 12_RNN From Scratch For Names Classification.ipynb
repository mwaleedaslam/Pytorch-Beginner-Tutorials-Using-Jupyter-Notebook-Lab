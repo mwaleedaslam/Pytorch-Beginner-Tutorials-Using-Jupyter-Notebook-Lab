{
 "cells": [
  {
   "cell_type": "markdown",
   "id": "068e8e4a-12a6-49fd-b342-f62334c43270",
   "metadata": {},
   "source": [
    "# Classification of Names According to the Countries\n",
    "# Required Steps\n",
    "### Step 1: Helper functions to convert the sequence of a name into characters\n",
    "### Step 2: Provide converted characters of the sequence to RNN\n",
    "### -----------------------------------------------------------------------"
   ]
  },
  {
   "cell_type": "markdown",
   "id": "cc89908b-7951-4f37-8b94-a78996b0abd9",
   "metadata": {},
   "source": [
    "# Implementation of Step 1"
   ]
  },
  {
   "cell_type": "code",
   "execution_count": 172,
   "id": "0f0917a6-2122-4638-a9f3-86841541493f",
   "metadata": {
    "tags": []
   },
   "outputs": [],
   "source": [
    "import io\n",
    "import os\n",
    "import unicodedata\n",
    "import string\n",
    "import glob\n",
    "\n",
    "import torch\n",
    "import torch.nn as nn\n",
    "import matplotlib.pyplot as plt\n",
    "import random"
   ]
  },
  {
   "cell_type": "code",
   "execution_count": 173,
   "id": "496e58c3-5d79-42ae-983c-fad0bb00f03b",
   "metadata": {
    "tags": []
   },
   "outputs": [
    {
     "name": "stdout",
     "output_type": "stream",
     "text": [
      "abcdefghijklmnopqrstuvwxyzABCDEFGHIJKLMNOPQRSTUVWXYZ .,;'\n",
      "57\n"
     ]
    }
   ],
   "source": [
    "# get ascii characters i.e. capital alphabets, small alphabets, and special characters (.,;)\n",
    "characters = string.ascii_letters + \" .,;'\"\n",
    "print(characters)\n",
    "num_characters = len(characters)\n",
    "print(num_characters)"
   ]
  },
  {
   "cell_type": "markdown",
   "id": "8b9fcef7-b7d5-4523-826e-b3c60b5b0764",
   "metadata": {},
   "source": [
    "# Helper Function 1: For Converting Diacritics Into Plain Ascii\n",
    "### Remove all the accents/unicodes (diacritics) from the string and convert it into a plain ascii\n",
    "### Example 'kožušček' -> 'kozuscek'"
   ]
  },
  {
   "cell_type": "code",
   "execution_count": 174,
   "id": "f49ea463-86c1-470d-8185-422e6641dda2",
   "metadata": {
    "tags": []
   },
   "outputs": [],
   "source": [
    "def diacritics_to_ascii(word):\n",
    "    return ''.join(l for l in unicodedata.normalize('NFD', word)\n",
    "                  if unicodedata.category(l) != 'Mn')"
   ]
  },
  {
   "cell_type": "code",
   "execution_count": 175,
   "id": "b655885c-f85b-4bbb-bf50-263568dcc6d4",
   "metadata": {
    "tags": []
   },
   "outputs": [
    {
     "name": "stdout",
     "output_type": "stream",
     "text": [
      "kozuscek\n"
     ]
    }
   ],
   "source": [
    "print(diacritics_to_ascii('kožušček'))"
   ]
  },
  {
   "cell_type": "markdown",
   "id": "379848a3-d362-477f-9db7-1e432de62548",
   "metadata": {},
   "source": [
    "# Helper Function 2: For Loading Data\n",
    "### Return Names and Nationalities"
   ]
  },
  {
   "cell_type": "code",
   "execution_count": 176,
   "id": "159dd0f8-09e2-4bf5-b919-2603977042e4",
   "metadata": {
    "tags": []
   },
   "outputs": [],
   "source": [
    "def load_names_data():\n",
    "    nationalities_and_names = {}\n",
    "    nationalities = []\n",
    "    \n",
    "    # get paths of text files\n",
    "    text_file_paths = glob.glob('./data/names_classification_data/names/*')\n",
    "    \n",
    "    # load data from each text file and save into dictionary\n",
    "    for file_path in text_file_paths:\n",
    "        # get name of the nationalities/files\n",
    "        nationalities.append(os.path.splitext(os.path.basename(file_path))[0])\n",
    "        \n",
    "        # dictionary of nationalities along with the corresponding names of national people\n",
    "        lines = io.open(file_path, encoding='utf-8').read().strip().split('\\n')\n",
    "        nationalities_and_names[nationalities[-1]] = [diacritics_to_ascii(line) for line in lines]\n",
    "    return nationalities_and_names, nationalities"
   ]
  },
  {
   "cell_type": "code",
   "execution_count": 177,
   "id": "d3c9bdf4-1845-48bf-a815-740a073f549a",
   "metadata": {
    "tags": []
   },
   "outputs": [
    {
     "name": "stdout",
     "output_type": "stream",
     "text": [
      "['Abel', 'Abraham', 'Adam', 'Albert', 'Allard', 'Archambault', 'Armistead', 'Arthur', 'Augustin', 'Babineaux', 'Baudin', 'Beauchene', 'Beaulieu', 'Beaumont', 'Belanger', 'Bellamy', 'Bellerose', 'Belrose', 'Berger', 'Beringer', 'Bernard', 'Bertrand', 'Bisset', 'Bissette', 'Blaise', 'Blanc', 'Blanchet', 'Blanchett', 'Bonfils', 'Bonheur', 'Bonhomme', 'Bonnaire', 'Bonnay', 'Bonner', 'Bonnet', 'Borde', 'Bordelon', 'Bouchard', 'Boucher', 'Brisbois', 'Brodeur', 'Bureau', 'Caron', 'Cavey', 'Chaput', 'Charbonneau', 'Charpentier', 'Charron', 'Chastain', 'Chevalier', 'Chevrolet', 'Cloutier', 'Colbert', 'Comtois', 'Cornett', 'Cote', 'Coupe', 'Courtemanche', 'Cousineau', 'Couture', 'Daniau', \"D'aramitz\", 'Daviau', 'David', 'Deforest', 'Degarmo', 'Delacroix', 'De la fontaine', 'Deniau', 'Deniaud', 'Deniel', 'Denis', 'De sauveterre', 'Deschamps', 'Descoteaux', 'Desjardins', 'Desrochers', 'Desrosiers', 'Dubois', 'Duchamps', 'Dufort', 'Dufour', 'Duguay', 'Dupond', 'Dupont', 'Durand', 'Durant', 'Duval', 'Emile', 'Eustis', 'Fabian', 'Fabre', 'Fabron', 'Faucher', 'Faucheux', 'Faure', 'Favager', 'Favre', 'Favreau', 'Fay', 'Felix', 'Firmin', 'Fontaine', 'Forest', 'Forestier', 'Fortier', 'Foss', 'Fournier', 'Gage', 'Gagne', 'Gagnier', 'Gagnon', 'Garcon', 'Gardinier', 'Germain', 'Geroux', 'Giles', 'Girard', 'Giroux', 'Glaisyer', 'Gosse', 'Gosselin', 'Granger', 'Guerin', 'Guillory', 'Hardy', 'Harman', 'Hebert', 'Herbert', 'Herriot', 'Jacques', 'Janvier', 'Jordan', 'Joubert', 'Labelle', 'Lachance', 'Lachapelle', 'Lamar', 'Lambert', 'Lane', 'Langlais', 'Langlois', 'Lapointe', 'Larue', 'Laurent', 'Lavigne', 'Lavoie', 'Leandres', 'Lebeau', 'Leblanc', 'Leclair', 'Leclerc', 'Lecuyer', 'Lefebvre', 'Lefevre', 'Lefurgey', 'Legrand', 'Lemaire', 'Lemieux', 'Leon', 'Leroy', 'Lesauvage', 'Lestrange', 'Leveque', 'Levesque', 'Linville', 'Lyon', 'Lyon', 'Macon', 'Marchand', 'Marie', 'Marion', 'Martel', 'Martel', 'Martin', 'Masson', 'Masson', 'Mathieu', 'Mercier', 'Merle', 'Michaud', 'Michel', 'Monet', 'Monette', 'Montagne', 'Moreau', 'Moulin', 'Mullins', 'Noel', 'Oliver', 'Olivier', 'Page', 'Paget', 'Palomer', 'Pan', 'Pape', 'Paquet', 'Paquet', 'Parent', 'Paris', 'Parris', 'Pascal', 'Patenaude', 'Paternoster', 'Paul', 'Pelletier', 'Perrault', 'Perreault', 'Perrot', 'Petit', 'Pettigrew', 'Pierre', 'Plamondon', 'Plourde', 'Poingdestre', 'Poirier', 'Porcher', 'Poulin', 'Proulx', 'Renaud', 'Rey', 'Reyer', 'Richard', 'Richelieu', 'Robert', 'Roche', 'Rome', 'Romilly', 'Rose', 'Rousseau', 'Roux', 'Roy', 'Royer', 'Salomon', 'Salvage', 'Samson', 'Samuel', 'Sargent', 'Sarkozi', 'Sarkozy', 'Sartre', 'Sault', 'Sauvage', 'Sauvageau', 'Sauvageon', 'Sauvageot', 'Sauveterre', 'Savatier', 'Segal', 'Sergeant', 'Severin', 'Simon', 'Solomon', 'Soucy', 'St martin', 'St pierre', 'Tailler', 'Tasse', 'Thayer', 'Thibault', 'Thomas', 'Tobias', 'Tolbert', 'Traver', 'Travere', 'Travers', 'Traverse', 'Travert', 'Tremblay', 'Tremble', 'Victor', 'Victors', 'Villeneuve', 'Vincent', 'Vipond', 'Voclain', 'Yount']\n",
      "['Arabic', 'Chinese', 'Czech', 'Dutch', 'English', 'French', 'German', 'Greek', 'Irish', 'Italian', 'Japanese', 'Korean', 'Polish', 'Portuguese', 'Russian', 'Scottish', 'Spanish', 'Vietnamese']\n"
     ]
    }
   ],
   "source": [
    "nationalities_and_names, nationalities = load_names_data()\n",
    "print(nationalities_and_names['French'])\n",
    "print(nationalities)"
   ]
  },
  {
   "cell_type": "markdown",
   "id": "b904dfd5-e565-409c-9a0a-2d8bb91f5e3d",
   "metadata": {},
   "source": [
    "# Helper Functions For One-Hot-Encoding of Characters\n",
    "### size = 1 x n (Characters)\n",
    "### Characters are joined into a 2D matrix (word_length x 1 x n_characters) to make a word\n",
    "### Extra 1 dimension is because of providing batches (Conventional assumption of batches in Pytorch). Here batch size = 1"
   ]
  },
  {
   "cell_type": "code",
   "execution_count": 178,
   "id": "793fca8d-e021-4d45-9649-3145c8d5fd4d",
   "metadata": {
    "tags": []
   },
   "outputs": [],
   "source": [
    "# convert a character into 1 x n_characters tensor\n",
    "def char_to_tensor(c):\n",
    "    tensor = torch.zeros(1, num_characters)\n",
    "    tensor[0][characters.find(c)] = 1 # find character index and convert that index of tensor into 1\n",
    "    return tensor # one-hot-encoded vector for the character"
   ]
  },
  {
   "cell_type": "code",
   "execution_count": 179,
   "id": "8d6da6c8-9900-4982-9331-d884974e5a89",
   "metadata": {
    "tags": []
   },
   "outputs": [
    {
     "name": "stdout",
     "output_type": "stream",
     "text": [
      "tensor([[0., 0., 0., 0., 0., 0., 0., 0., 0., 0., 0., 0., 0., 0., 0., 0., 0., 0.,\n",
      "         0., 0., 0., 0., 0., 0., 0., 0., 0., 0., 0., 0., 0., 0., 0., 0., 0., 0.,\n",
      "         0., 0., 0., 0., 0., 0., 0., 0., 0., 0., 0., 0., 1., 0., 0., 0., 0., 0.,\n",
      "         0., 0., 0.]])\n",
      "torch.Size([1, 57])\n"
     ]
    }
   ],
   "source": [
    "print(char_to_tensor('W'))\n",
    "print(char_to_tensor('W').size())"
   ]
  },
  {
   "cell_type": "code",
   "execution_count": 180,
   "id": "125ece75-16ac-456e-a8d5-815bcf8d9007",
   "metadata": {},
   "outputs": [],
   "source": [
    "# Convert a word into (word_length x 1 x n_characters)\n",
    "def word_to_tensor(w):\n",
    "    tensor = torch.zeros(len(w), 1, num_characters)\n",
    "    for i, c in enumerate(w):\n",
    "        tensor[i][0][characters.find(c)] = 1\n",
    "    return tensor # one-hot-encoded matrix for the word"
   ]
  },
  {
   "cell_type": "code",
   "execution_count": 181,
   "id": "e009ab36-ab49-4716-a929-0439ee6c1b39",
   "metadata": {},
   "outputs": [
    {
     "name": "stdout",
     "output_type": "stream",
     "text": [
      "tensor([[[0., 0., 0., 0., 0., 0., 0., 0., 0., 0., 0., 0., 0., 0., 0., 0., 0.,\n",
      "          0., 0., 0., 0., 0., 0., 0., 0., 0., 1., 0., 0., 0., 0., 0., 0., 0.,\n",
      "          0., 0., 0., 0., 0., 0., 0., 0., 0., 0., 0., 0., 0., 0., 0., 0., 0.,\n",
      "          0., 0., 0., 0., 0., 0.]],\n",
      "\n",
      "        [[0., 0., 0., 0., 0., 0., 0., 0., 0., 0., 0., 1., 0., 0., 0., 0., 0.,\n",
      "          0., 0., 0., 0., 0., 0., 0., 0., 0., 0., 0., 0., 0., 0., 0., 0., 0.,\n",
      "          0., 0., 0., 0., 0., 0., 0., 0., 0., 0., 0., 0., 0., 0., 0., 0., 0.,\n",
      "          0., 0., 0., 0., 0., 0.]],\n",
      "\n",
      "        [[0., 0., 0., 0., 1., 0., 0., 0., 0., 0., 0., 0., 0., 0., 0., 0., 0.,\n",
      "          0., 0., 0., 0., 0., 0., 0., 0., 0., 0., 0., 0., 0., 0., 0., 0., 0.,\n",
      "          0., 0., 0., 0., 0., 0., 0., 0., 0., 0., 0., 0., 0., 0., 0., 0., 0.,\n",
      "          0., 0., 0., 0., 0., 0.]],\n",
      "\n",
      "        [[0., 0., 0., 0., 0., 0., 0., 0., 0., 0., 0., 0., 0., 0., 0., 0., 0.,\n",
      "          0., 0., 0., 0., 0., 0., 1., 0., 0., 0., 0., 0., 0., 0., 0., 0., 0.,\n",
      "          0., 0., 0., 0., 0., 0., 0., 0., 0., 0., 0., 0., 0., 0., 0., 0., 0.,\n",
      "          0., 0., 0., 0., 0., 0.]]])\n",
      "torch.Size([4, 1, 57])\n"
     ]
    }
   ],
   "source": [
    "print(word_to_tensor('Alex'))\n",
    "print(word_to_tensor('Alex').size())"
   ]
  },
  {
   "cell_type": "markdown",
   "id": "c120500b-292f-4416-877d-88fd9c325ce8",
   "metadata": {},
   "source": [
    "# Helper Function for Picking-up\n",
    "### 1. Random Nationality\n",
    "### 2. Random Name From Randomly Chosen Nationality\n",
    "### 3. Tensor Index of the Randomly Chosen Nationality\n",
    "### 4. One-Hot-Encoded Matrix of the Randomly Chosen Name"
   ]
  },
  {
   "cell_type": "code",
   "execution_count": 182,
   "id": "de063d03-4c99-43cb-89e6-18cf5105120a",
   "metadata": {},
   "outputs": [],
   "source": [
    "def pick_random_name(nationalities_and_names, nationalities):\n",
    "    # randomly pick a nationality\n",
    "    idx = random.randint(0, len(nationalities) - 1)\n",
    "    national = nationalities[idx]\n",
    "    \n",
    "    # randomly pick name from randomly chosen nationality\n",
    "    idx = random.randint(0, len(nationalities_and_names[national]) - 1)\n",
    "    name = nationalities_and_names[national][idx]\n",
    "    \n",
    "    # pick tenso index number of the nationality from the <nationalities_and_names> dictionary\n",
    "    nationality_tensor = torch.tensor([nationalities.index(national)], dtype=torch.long)\n",
    "    name_tensor = word_to_tensor(name) # one-hot-encoded matrix of the rnadomly chosen name\n",
    "    return national, name, nationality_tensor, name_tensor"
   ]
  },
  {
   "cell_type": "code",
   "execution_count": 183,
   "id": "dccd99e9-df39-4e3e-8c83-c1c58b56d80a",
   "metadata": {
    "tags": []
   },
   "outputs": [
    {
     "name": "stdout",
     "output_type": "stream",
     "text": [
      "Russian\n",
      "Pahtel\n",
      "tensor([14])\n",
      "tensor([[[0., 0., 0., 0., 0., 0., 0., 0., 0., 0., 0., 0., 0., 0., 0., 0., 0.,\n",
      "          0., 0., 0., 0., 0., 0., 0., 0., 0., 0., 0., 0., 0., 0., 0., 0., 0.,\n",
      "          0., 0., 0., 0., 0., 0., 0., 1., 0., 0., 0., 0., 0., 0., 0., 0., 0.,\n",
      "          0., 0., 0., 0., 0., 0.]],\n",
      "\n",
      "        [[1., 0., 0., 0., 0., 0., 0., 0., 0., 0., 0., 0., 0., 0., 0., 0., 0.,\n",
      "          0., 0., 0., 0., 0., 0., 0., 0., 0., 0., 0., 0., 0., 0., 0., 0., 0.,\n",
      "          0., 0., 0., 0., 0., 0., 0., 0., 0., 0., 0., 0., 0., 0., 0., 0., 0.,\n",
      "          0., 0., 0., 0., 0., 0.]],\n",
      "\n",
      "        [[0., 0., 0., 0., 0., 0., 0., 1., 0., 0., 0., 0., 0., 0., 0., 0., 0.,\n",
      "          0., 0., 0., 0., 0., 0., 0., 0., 0., 0., 0., 0., 0., 0., 0., 0., 0.,\n",
      "          0., 0., 0., 0., 0., 0., 0., 0., 0., 0., 0., 0., 0., 0., 0., 0., 0.,\n",
      "          0., 0., 0., 0., 0., 0.]],\n",
      "\n",
      "        [[0., 0., 0., 0., 0., 0., 0., 0., 0., 0., 0., 0., 0., 0., 0., 0., 0.,\n",
      "          0., 0., 1., 0., 0., 0., 0., 0., 0., 0., 0., 0., 0., 0., 0., 0., 0.,\n",
      "          0., 0., 0., 0., 0., 0., 0., 0., 0., 0., 0., 0., 0., 0., 0., 0., 0.,\n",
      "          0., 0., 0., 0., 0., 0.]],\n",
      "\n",
      "        [[0., 0., 0., 0., 1., 0., 0., 0., 0., 0., 0., 0., 0., 0., 0., 0., 0.,\n",
      "          0., 0., 0., 0., 0., 0., 0., 0., 0., 0., 0., 0., 0., 0., 0., 0., 0.,\n",
      "          0., 0., 0., 0., 0., 0., 0., 0., 0., 0., 0., 0., 0., 0., 0., 0., 0.,\n",
      "          0., 0., 0., 0., 0., 0.]],\n",
      "\n",
      "        [[0., 0., 0., 0., 0., 0., 0., 0., 0., 0., 0., 1., 0., 0., 0., 0., 0.,\n",
      "          0., 0., 0., 0., 0., 0., 0., 0., 0., 0., 0., 0., 0., 0., 0., 0., 0.,\n",
      "          0., 0., 0., 0., 0., 0., 0., 0., 0., 0., 0., 0., 0., 0., 0., 0., 0.,\n",
      "          0., 0., 0., 0., 0., 0.]]])\n"
     ]
    }
   ],
   "source": [
    "national, name, nationality_tensor, name_tensor = pick_random_name(nationalities_and_names, nationalities)\n",
    "print(national)\n",
    "print(name)\n",
    "print(nationality_tensor)\n",
    "print(name_tensor)"
   ]
  },
  {
   "cell_type": "markdown",
   "id": "c9d8ed38-a9e7-405e-a2ac-fc51cf51bff3",
   "metadata": {},
   "source": [
    "# Step 2: Implementation of RNN\n",
    "# -------------------------------------------"
   ]
  },
  {
   "cell_type": "markdown",
   "id": "f850ac0a-030f-41a7-801d-ab176bbb1644",
   "metadata": {},
   "source": [
    "# Define the Layers of RNN Model\n",
    "### Input Linear Layer\n",
    "### Hidden Linear Layer\n",
    "### Softmax Function for Multiple Classes"
   ]
  },
  {
   "cell_type": "code",
   "execution_count": 184,
   "id": "e84854f9-d138-4cfb-a262-2c40c8ccaacc",
   "metadata": {
    "tags": []
   },
   "outputs": [],
   "source": [
    "class RNN(nn.Module):\n",
    "    def __init__(self, input_size, hidden_size, output_size):\n",
    "        super(RNN, self).__init__()\n",
    "        \n",
    "        self.hidden_size = hidden_size\n",
    "        self.in_to_hid = nn.Linear(input_size + hidden_size, hidden_size)\n",
    "        self.in_to_out = nn.Linear(input_size + hidden_size, output_size)\n",
    "        self.sm = nn.LogSoftmax(dim=1) # 1 x 57\n",
    "        \n",
    "    def forward(self, input_tensor, hidden_tensor):\n",
    "        merged_tensor = torch.cat((input_tensor, hidden_tensor), 1)\n",
    "        \n",
    "        hid = self.in_to_hid(merged_tensor)\n",
    "        out = self.in_to_out(merged_tensor)\n",
    "        out = self.sm(out)\n",
    "        \n",
    "        return hid, out\n",
    "    \n",
    "    # helper function for initial hidden state in the beginning\n",
    "    def init_hid(self):\n",
    "        return torch.zeros(1, self.hidden_size)"
   ]
  },
  {
   "cell_type": "code",
   "execution_count": 185,
   "id": "d55b2d3b-eab7-48df-9e24-7beac51fb05f",
   "metadata": {
    "tags": []
   },
   "outputs": [
    {
     "name": "stdout",
     "output_type": "stream",
     "text": [
      "18\n"
     ]
    }
   ],
   "source": [
    "# load data\n",
    "nationalities_and_names, nationalities = load_names_data()\n",
    "num_nationalities = len(nationalities)\n",
    "print(num_nationalities)"
   ]
  },
  {
   "cell_type": "markdown",
   "id": "3947d5fb-e117-402a-ab57-ca6f79e1eaac",
   "metadata": {},
   "source": [
    "### Load RNN model"
   ]
  },
  {
   "cell_type": "code",
   "execution_count": 186,
   "id": "6a0bb8ae-a34c-4361-b8e9-bd6e51339594",
   "metadata": {
    "tags": []
   },
   "outputs": [],
   "source": [
    "num_hid = 128\n",
    "model = RNN(num_characters, num_hid, num_nationalities)"
   ]
  },
  {
   "cell_type": "markdown",
   "id": "074463c2-c8b4-4557-975a-9d25cde84856",
   "metadata": {},
   "source": [
    "### Test model on a single character/step"
   ]
  },
  {
   "cell_type": "code",
   "execution_count": 187,
   "id": "6b9cd86f-4dc5-4170-8290-be5fb5e1e946",
   "metadata": {
    "tags": []
   },
   "outputs": [
    {
     "name": "stdout",
     "output_type": "stream",
     "text": [
      "torch.Size([1, 18])\n",
      "torch.Size([1, 128])\n"
     ]
    }
   ],
   "source": [
    "in_tensor = char_to_tensor('T')\n",
    "hid_tensor = model.init_hid()\n",
    "\n",
    "next_hid, out = model(in_tensor, hid_tensor)\n",
    "print(out.size())\n",
    "print(next_hid.size())"
   ]
  },
  {
   "cell_type": "markdown",
   "id": "9bc964d8-42da-4659-bd2a-204466c6aef2",
   "metadata": {},
   "source": [
    "### Test model on a complete name/word"
   ]
  },
  {
   "cell_type": "code",
   "execution_count": 188,
   "id": "e8f3a51c-f8da-4821-8520-f88d2bbab35a",
   "metadata": {
    "tags": []
   },
   "outputs": [
    {
     "name": "stdout",
     "output_type": "stream",
     "text": [
      "torch.Size([1, 18])\n",
      "torch.Size([1, 128])\n"
     ]
    }
   ],
   "source": [
    "in_tensor = word_to_tensor('PyTorch')\n",
    "hid_tensor = model.init_hid()\n",
    "\n",
    "next_hid, out = model(in_tensor[0], hid_tensor)\n",
    "print(out.size())\n",
    "print(next_hid.size())"
   ]
  },
  {
   "cell_type": "markdown",
   "id": "ddd54418-fac5-4776-bbff-d601246062e6",
   "metadata": {},
   "source": [
    "# Helper Function to Extract Nationality\n",
    "## Get the tensor index that has highest probability value by:\n",
    "### - Providing a name as input\n",
    "### - Getting correponding nationality based on probabilty as output"
   ]
  },
  {
   "cell_type": "code",
   "execution_count": 189,
   "id": "8dafa166-a5c5-4fa8-9c08-404cb2b9fa31",
   "metadata": {
    "tags": []
   },
   "outputs": [],
   "source": [
    "def detect_nationality(out):\n",
    "    return nationalities[torch.argmax(out).item()]"
   ]
  },
  {
   "cell_type": "code",
   "execution_count": 190,
   "id": "9852a521-5e1f-41dd-9276-e096cb0685ca",
   "metadata": {
    "tags": []
   },
   "outputs": [
    {
     "name": "stdout",
     "output_type": "stream",
     "text": [
      "Polish\n"
     ]
    }
   ],
   "source": [
    "# Dummy example testing without training the model\n",
    "print(detect_nationality(out))"
   ]
  },
  {
   "cell_type": "code",
   "execution_count": 191,
   "id": "aaf478c8-ec40-4b8e-a352-f47749fb5473",
   "metadata": {
    "tags": []
   },
   "outputs": [],
   "source": [
    "# set criterion and optimizer\n",
    "criterion = nn.NLLLoss() # negative likelihood loss\n",
    "learning_rate = 0.003\n",
    "optimizer = torch.optim.SGD(model.parameters(), lr=learning_rate)"
   ]
  },
  {
   "cell_type": "markdown",
   "id": "13aef936-fd81-4677-827d-f5932f97af05",
   "metadata": {},
   "source": [
    "# Model Training"
   ]
  },
  {
   "cell_type": "code",
   "execution_count": 192,
   "id": "eacf0fe1-cbd5-4f8e-8811-42586b2c0287",
   "metadata": {
    "tags": []
   },
   "outputs": [],
   "source": [
    "def rnn_training(name_tensor, nationality_tensor):\n",
    "    hidden = model.init_hid()\n",
    "    \n",
    "    for i in range(name_tensor.size()[0]):\n",
    "        hid, out = model(name_tensor[i], hidden)\n",
    "        \n",
    "    loss = criterion(out, nationality_tensor)\n",
    "    \n",
    "    optimizer.zero_grad()\n",
    "    loss.backward()\n",
    "    optimizer.step()\n",
    "    \n",
    "    return out, loss.item()"
   ]
  },
  {
   "cell_type": "markdown",
   "id": "b80b7927-2444-469b-80c5-34da0544029f",
   "metadata": {},
   "source": [
    "# Implement Typical Training Loop"
   ]
  },
  {
   "cell_type": "code",
   "execution_count": 193,
   "id": "15ac33c4-f5bc-4e62-baf2-2995e759e373",
   "metadata": {
    "tags": []
   },
   "outputs": [
    {
     "name": "stdout",
     "output_type": "stream",
     "text": [
      "5000 5.0 2.7922 Maria / Japanese WRONG (Portuguese)\n",
      "10000 10.0 2.7883 Handal / Czech WRONG (Arabic)\n",
      "15000 15.0 1.6331 Lolos / Greek CORRECT\n",
      "20000 20.0 1.5170 Garofalis / Greek CORRECT\n",
      "25000 25.0 2.8310 Baik / Polish WRONG (Korean)\n",
      "30000 30.0 2.3401 Fierro / Portuguese WRONG (Spanish)\n",
      "35000 35.0 2.6634 Fiskin / Irish WRONG (Russian)\n",
      "40000 40.0 2.6293 Schuyler / German WRONG (Dutch)\n",
      "45000 45.0 3.1570 Giles / Greek WRONG (French)\n",
      "50000 50.0 2.4620 Gerhardt / French WRONG (German)\n",
      "55000 55.00000000000001 3.0575 Guirguis / Greek WRONG (Arabic)\n",
      "60000 60.0 2.1303 Soares / Greek WRONG (Portuguese)\n",
      "65000 65.0 3.7349 Klimes / Greek WRONG (Czech)\n",
      "70000 70.0 0.4896 Isachenkov / Russian CORRECT\n",
      "75000 75.0 2.1318 Vykruta / Japanese WRONG (Czech)\n",
      "80000 80.0 3.0538 Sandoval / Czech WRONG (Spanish)\n",
      "85000 85.0 3.1779 Desrosiers / Greek WRONG (French)\n",
      "90000 90.0 3.4571 Uerling / Chinese WRONG (Czech)\n",
      "95000 95.0 0.9841 Sortras / Greek CORRECT\n",
      "100000 100.0 1.4479 Yasukawa / Japanese CORRECT\n"
     ]
    }
   ],
   "source": [
    "# tracking current loss and all the losses\n",
    "ongoing_loss = 0\n",
    "losses = []\n",
    "\n",
    "plt_steps, print_steps = 1000, 5000\n",
    "iters = 100000\n",
    "\n",
    "for i in range(iters):\n",
    "    national, name, nationality_tensor, name_tensor = pick_random_name(nationalities_and_names, nationalities)\n",
    "    \n",
    "    output, loss = rnn_training(name_tensor, nationality_tensor)\n",
    "    ongoing_loss += loss\n",
    "    \n",
    "    # append loss at every plt_step\n",
    "    if (i+1) % plt_steps == 0:\n",
    "        losses.append(ongoing_loss / plt_steps)\n",
    "        ongoing_loss = 0\n",
    "        \n",
    "    if (i+1) % print_steps == 0:\n",
    "        predict = detect_nationality(output)\n",
    "        is_correct = \"CORRECT\" if predict == national else f\"WRONG ({national})\"\n",
    "        print(f\"{i+1} {(i+1)/iters*100} {loss:.4f} {name} / {predict} {is_correct}\")"
   ]
  },
  {
   "cell_type": "markdown",
   "id": "d12af511-3e6e-4042-844a-08f2cbd4a482",
   "metadata": {},
   "source": [
    "# Plot Loss Graph"
   ]
  },
  {
   "cell_type": "code",
   "execution_count": 194,
   "id": "a8b2ee2a-6d89-40a3-9f83-b97b14d60be5",
   "metadata": {
    "tags": []
   },
   "outputs": [
    {
     "data": {
      "image/png": "[encoded data removed]",
      "text/plain": [
       "<Figure size 640x480 with 1 Axes>"
      ]
     },
     "metadata": {},
     "output_type": "display_data"
    }
   ],
   "source": [
    "plt.figure()\n",
    "plt.plot(losses)\n",
    "plt.show()"
   ]
  },
  {
   "cell_type": "markdown",
   "id": "3f2b14cb-df5f-4932-a957-3dde9601f0b6",
   "metadata": {},
   "source": [
    "### Testing Examples After Training Model"
   ]
  },
  {
   "cell_type": "code",
   "execution_count": 201,
   "id": "8271a402-b873-4cd9-8700-397bc54f79ed",
   "metadata": {
    "tags": []
   },
   "outputs": [],
   "source": [
    "def predict_name(name):\n",
    "    print(f\"The input name = {name}\")\n",
    "    with torch.no_grad():\n",
    "        name_tensor = word_to_tensor(name)\n",
    "        \n",
    "        hidden = model.init_hid()\n",
    "    \n",
    "        for i in range(name_tensor.size()[0]):\n",
    "            hidden, output = model(name_tensor[i], hidden)\n",
    "        \n",
    "        pred = detect_nationality(output)\n",
    "        print(f\"The predicted nationality = {pred}\")"
   ]
  },
  {
   "cell_type": "code",
   "execution_count": 203,
   "id": "c4c84649-289a-4a06-b4a3-3f3018f5bd4e",
   "metadata": {
    "tags": []
   },
   "outputs": [
    {
     "name": "stdout",
     "output_type": "stream",
     "text": [
      "The input name = Akita\n",
      "The predicted nationality = Japanese\n"
     ]
    }
   ],
   "source": [
    "predict_name('Akita') # Japanese"
   ]
  }
 ],
 "metadata": {
  "kernelspec": {
   "display_name": "pytorch",
   "language": "python",
   "name": "pytorch"
  },
  "language_info": {
   "codemirror_mode": {
    "name": "ipython",
    "version": 3
   },
   "file_extension": ".py",
   "mimetype": "text/x-python",
   "name": "python",
   "nbconvert_exporter": "python",
   "pygments_lexer": "ipython3",
   "version": "3.9.16"
  }
 },
 "nbformat": 4,
 "nbformat_minor": 5
}
