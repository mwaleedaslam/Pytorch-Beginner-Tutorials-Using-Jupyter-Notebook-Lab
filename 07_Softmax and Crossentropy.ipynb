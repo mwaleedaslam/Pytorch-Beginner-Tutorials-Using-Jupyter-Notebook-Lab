{
 "cells": [
  {
   "cell_type": "code",
   "execution_count": 144,
   "id": "602a1f29",
   "metadata": {},
   "outputs": [],
   "source": [
    "import torch\n",
    "import torch.nn as nn\n",
    "import numpy as np"
   ]
  },
  {
   "cell_type": "markdown",
   "id": "de2ec1d7",
   "metadata": {},
   "source": [
    "# Example of Calculating Softmax\n",
    "### Softmax can be calculated for Numpy as well as for Tensor"
   ]
  },
  {
   "cell_type": "code",
   "execution_count": 145,
   "id": "9ded251f",
   "metadata": {},
   "outputs": [],
   "source": [
    "def softmax(x):\n",
    "    return np.exp(x) / np.sum(np.exp(x), axis=0)"
   ]
  },
  {
   "cell_type": "code",
   "execution_count": 146,
   "id": "8ac6a3d5",
   "metadata": {},
   "outputs": [
    {
     "name": "stdout",
     "output_type": "stream",
     "text": [
      "softmax y against numpy x:  [0.41727336 0.15350629 0.062411   0.25308909 0.11372026]\n"
     ]
    }
   ],
   "source": [
    "# for numpy array\n",
    "x = np.array([2.0, 1.0, 0.1, 1.5, 0.7])\n",
    "y = softmax(x)\n",
    "print(\"softmax y against numpy x: \", y)"
   ]
  },
  {
   "cell_type": "code",
   "execution_count": 147,
   "id": "8ace9841",
   "metadata": {},
   "outputs": [
    {
     "name": "stdout",
     "output_type": "stream",
     "text": [
      "softmax y against tensor x:  tensor([0.4173, 0.1535, 0.0624, 0.2531, 0.1137])\n"
     ]
    }
   ],
   "source": [
    "# for tensor using torch.softmax method\n",
    "x = torch.tensor([2.0, 1.0, 0.1, 1.5, 0.7])\n",
    "y = torch.softmax(x, dim=0)\n",
    "print(\"softmax y against tensor x: \", y)"
   ]
  },
  {
   "cell_type": "markdown",
   "id": "27675484",
   "metadata": {},
   "source": [
    "# Crossentropy Loss\n",
    "### Mostly used for multiclass problem"
   ]
  },
  {
   "cell_type": "code",
   "execution_count": 148,
   "id": "b1c3806e",
   "metadata": {},
   "outputs": [],
   "source": [
    "def crossentropy(y, y_hat):\n",
    "    loss = -np.sum(y * np.log(y_hat))\n",
    "    return loss"
   ]
  },
  {
   "cell_type": "markdown",
   "id": "0dbf062d",
   "metadata": {},
   "source": [
    "# One hot encoding for y "
   ]
  },
  {
   "cell_type": "code",
   "execution_count": 149,
   "id": "b0776661",
   "metadata": {},
   "outputs": [],
   "source": [
    "y = np.array([1, 0, 0, 0, 0])"
   ]
  },
  {
   "cell_type": "code",
   "execution_count": 150,
   "id": "21954b33",
   "metadata": {},
   "outputs": [],
   "source": [
    "y_pred_good = np.array([0.7, 0.1, 0.05, 0.1, 0.05])\n",
    "y_pred_bad = np.array([0.1, 0.05, 0.1, 0.05, 0.7])"
   ]
  },
  {
   "cell_type": "code",
   "execution_count": 151,
   "id": "4aac218a",
   "metadata": {},
   "outputs": [
    {
     "name": "stdout",
     "output_type": "stream",
     "text": [
      "Numpy Loss 1 (min loss -> good): 0.3567\n",
      "Numpy Loss 2 (max loss) -> bad: 2.3026\n"
     ]
    }
   ],
   "source": [
    "l1 = crossentropy(y, y_pred_good)\n",
    "l2 = crossentropy(y, y_pred_bad)\n",
    "print(f'Numpy Loss 1 (min loss -> good): {l1:.4f}')\n",
    "print(f'Numpy Loss 2 (max loss) -> bad: {l2:.4f}')"
   ]
  },
  {
   "cell_type": "markdown",
   "id": "5d590470",
   "metadata": {},
   "source": [
    "# Crossentropy Loss using Pytorch\n",
    "### Careful!\n",
    "### nn.CrossEntropyLoss() method applies nn.Softmax() and nn.NLLoss together\n",
    "### That's why, no need to apply Softmax() at the last layer of the network\n",
    "### Dont apply One-Hot-Encoding on y before. Just provivde y as a label\n",
    "### The predicted y should be scored as raw. No Softmax() implementation"
   ]
  },
  {
   "cell_type": "code",
   "execution_count": 152,
   "id": "d86cc0f4",
   "metadata": {},
   "outputs": [],
   "source": [
    "loss = nn.CrossEntropyLoss()"
   ]
  },
  {
   "cell_type": "markdown",
   "id": "f633d7cc",
   "metadata": {},
   "source": [
    "### For Single Class"
   ]
  },
  {
   "cell_type": "code",
   "execution_count": 153,
   "id": "354c9a1f",
   "metadata": {},
   "outputs": [],
   "source": [
    "y = torch.tensor([0])"
   ]
  },
  {
   "cell_type": "code",
   "execution_count": 154,
   "id": "e305a1b4",
   "metadata": {},
   "outputs": [],
   "source": [
    "# n_samples x n_classes = 1 x 5\n",
    "y_pred_good = torch.tensor([[0.7, 0.1, 0.05, 0.1, 0.05]])\n",
    "y_pred_bad = torch.tensor([[0.1, 0.05, 0.1, 0.05, 0.7]])"
   ]
  },
  {
   "cell_type": "code",
   "execution_count": 155,
   "id": "c3a4aa4f",
   "metadata": {},
   "outputs": [
    {
     "name": "stdout",
     "output_type": "stream",
     "text": [
      "Torch Loss 1 (min loss -> good):  1.1447688341140747\n",
      "Torch Loss 2 (max loss) -> bad:  1.7447688579559326\n"
     ]
    }
   ],
   "source": [
    "l1 = loss(y_pred_good, y)\n",
    "l2 = loss(y_pred_bad, y)\n",
    "print(\"Torch Loss 1 (min loss -> good): \", l1.item())\n",
    "print(\"Torch Loss 2 (max loss) -> bad: \", l2.item())"
   ]
  },
  {
   "cell_type": "code",
   "execution_count": 156,
   "id": "21422f5e",
   "metadata": {},
   "outputs": [
    {
     "name": "stdout",
     "output_type": "stream",
     "text": [
      "tensor([0])\n",
      "tensor([4])\n"
     ]
    }
   ],
   "source": [
    "_, pred1 = torch.max(y_pred_good, 1)\n",
    "_, pred2 = torch.max(y_pred_bad, 1)\n",
    "print(pred1)\n",
    "print(pred2)"
   ]
  },
  {
   "cell_type": "markdown",
   "id": "03628879",
   "metadata": {},
   "source": [
    "### For Multiple Classes"
   ]
  },
  {
   "cell_type": "code",
   "execution_count": 157,
   "id": "d52d80e0",
   "metadata": {},
   "outputs": [],
   "source": [
    "y = torch.tensor([4, 1, 0, 3, 2])"
   ]
  },
  {
   "cell_type": "code",
   "execution_count": 158,
   "id": "eec9f0fb",
   "metadata": {},
   "outputs": [],
   "source": [
    "# n_samples x n_classes = 5 x 5\n",
    "y_pred_good = torch.tensor([[0.05, 0.1, 0.05, 0.1, 0.7], [0.7, 2.1, 0.05, 1.1, 1.3], [4.0, 2.1, 0.05, 1.1, 1.3],\n",
    "                           [0.1, 1.1, 0.05, 2.3, 1.3], [0.7, 1.2, 4.4, 1.1, 1.3]])\n",
    "y_pred_bad = torch.tensor([[0.7, 0.1, 0.05, 0.1, 0.05], [2.1, 0.7, 0.05, 1.1, 1.3], [0.05, 2.1, 4.0, 1.1, 1.3],\n",
    "                           [0.1, 1.1, 0.05, 1.3, 2.3], [0.7, 4.4, 1.2, 1.1, 1.3]])"
   ]
  },
  {
   "cell_type": "code",
   "execution_count": 159,
   "id": "7530e329",
   "metadata": {},
   "outputs": [
    {
     "name": "stdout",
     "output_type": "stream",
     "text": [
      "Torch Loss 1 (min loss -> good):  0.5913751125335693\n",
      "Torch Loss 2 (max loss) -> bad:  2.6313750743865967\n"
     ]
    }
   ],
   "source": [
    "l1 = loss(y_pred_good, y)\n",
    "l2 = loss(y_pred_bad, y)\n",
    "print(\"Torch Loss 1 (min loss -> good): \", l1.item())\n",
    "print(\"Torch Loss 2 (max loss) -> bad: \", l2.item())"
   ]
  },
  {
   "cell_type": "code",
   "execution_count": 160,
   "id": "b9648c5c",
   "metadata": {},
   "outputs": [
    {
     "name": "stdout",
     "output_type": "stream",
     "text": [
      "tensor([4, 1, 0, 3, 2])\n",
      "tensor([0, 0, 2, 4, 1])\n"
     ]
    }
   ],
   "source": [
    "_, pred1 = torch.max(y_pred_good, 1)\n",
    "_, pred2 = torch.max(y_pred_bad, 1)\n",
    "print(pred1)\n",
    "print(pred2)"
   ]
  },
  {
   "cell_type": "markdown",
   "id": "2810c74c",
   "metadata": {},
   "source": [
    "# Binary Class Classification Using Neural Network\n",
    "### Sigmoid Function is used instead of Softmax"
   ]
  },
  {
   "cell_type": "code",
   "execution_count": 161,
   "id": "764d9441",
   "metadata": {},
   "outputs": [],
   "source": [
    "class NeuralNetBinary(nn.Module):\n",
    "    def __init__(self, input_size, hidden_size):\n",
    "        super(NeuralNetBinary, self).__init__()\n",
    "        self.linear1 = nn.Linear(input_size, hidden_size)\n",
    "        self.relu = nn.ReLU()\n",
    "        self.linear2 = nn.Linear(hidden_size, 1)\n",
    "        \n",
    "    def forward(self, inputs):\n",
    "        outputs = self.linear1(inputs)\n",
    "        outputs = self.relu(outputs)\n",
    "        outputs = self.linear2(outputs)\n",
    "        # at the end, sigmoid for binary\n",
    "        y_hat = torch.sigmoid(outputs)\n",
    "        return y_hat"
   ]
  },
  {
   "cell_type": "code",
   "execution_count": 162,
   "id": "0056e64e",
   "metadata": {},
   "outputs": [],
   "source": [
    "model = NeuralNetBinary(input_size=28*28, hidden_size=5)\n",
    "criterion = nn.BCELoss()"
   ]
  },
  {
   "cell_type": "markdown",
   "id": "993ffd7c",
   "metadata": {},
   "source": [
    "# Multiclass Classification Using Neural Network\n",
    "### No need to use Softmax, only use Cross Entropy"
   ]
  },
  {
   "cell_type": "code",
   "execution_count": 163,
   "id": "6b8118c3",
   "metadata": {},
   "outputs": [],
   "source": [
    "class NeuralNetMulti(nn.Module):\n",
    "    def __init__(self, input_size, hidden_size, n_classes):\n",
    "        super(NeuralNetMulti, self).__init__()\n",
    "        self.linear1 = nn.Linear(input_size, hidden_size)\n",
    "        self.relu = nn.ReLU()\n",
    "        self.linear2 = nn.Linear(hidden_size, n_classes)\n",
    "        \n",
    "    def forward(self, inputs):\n",
    "        outputs = self.linear1(inputs)\n",
    "        outputs = self.relu(outputs)\n",
    "        outputs = self.linear2(outputs)\n",
    "        \n",
    "        return outputs"
   ]
  },
  {
   "cell_type": "code",
   "execution_count": 164,
   "id": "a2300ca9",
   "metadata": {},
   "outputs": [],
   "source": [
    "model = NeuralNetMulti(input_size=28*28, hidden_size=5, n_classes=5)\n",
    "criterion =  nn.CrossEntropyLoss() # nn.CrossEntropyLoss() automaticsally applies Softmax"
   ]
  },
  {
   "cell_type": "code",
   "execution_count": null,
   "id": "16ad7d61",
   "metadata": {},
   "outputs": [],
   "source": []
  }
 ],
 "metadata": {
  "kernelspec": {
   "display_name": "pytorch",
   "language": "python",
   "name": "pytorch"
  },
  "language_info": {
   "codemirror_mode": {
    "name": "ipython",
    "version": 3
   },
   "file_extension": ".py",
   "mimetype": "text/x-python",
   "name": "python",
   "nbconvert_exporter": "python",
   "pygments_lexer": "ipython3",
   "version": "3.9.16"
  }
 },
 "nbformat": 4,
 "nbformat_minor": 5
}
