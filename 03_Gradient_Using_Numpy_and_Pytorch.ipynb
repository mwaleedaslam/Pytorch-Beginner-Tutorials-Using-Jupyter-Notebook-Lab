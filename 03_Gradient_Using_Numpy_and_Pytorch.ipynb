{
 "cells": [
  {
   "cell_type": "markdown",
   "id": "e25e99af",
   "metadata": {},
   "source": [
    "# Calculating Gradient Using Numpy (Manual Methodology)\n",
    "## Training Linear Model as an Example"
   ]
  },
  {
   "cell_type": "code",
   "execution_count": 99,
   "id": "a19032b0",
   "metadata": {},
   "outputs": [],
   "source": [
    "import numpy as np"
   ]
  },
  {
   "cell_type": "code",
   "execution_count": 100,
   "id": "3c8b7bc5",
   "metadata": {},
   "outputs": [],
   "source": [
    "# f = w * x\n",
    "# f = 2 * x\n",
    "X = np.array([1, 2, 3, 4], dtype=np.float32)\n",
    "Y = np.array([2, 4, 6, 8], dtype=np.float32)\n",
    "w = 0.0"
   ]
  },
  {
   "cell_type": "code",
   "execution_count": 101,
   "id": "cfa8097f",
   "metadata": {},
   "outputs": [],
   "source": [
    "# forward/model prediction method\n",
    "def forward(x):\n",
    "    return w * x"
   ]
  },
  {
   "cell_type": "code",
   "execution_count": 102,
   "id": "20fca63c",
   "metadata": {},
   "outputs": [],
   "source": [
    "# loss = MSE\n",
    "def loss(y, y_hat):\n",
    "    return ((y_hat - y)**2).mean()"
   ]
  },
  {
   "cell_type": "code",
   "execution_count": 103,
   "id": "ddba4073",
   "metadata": {},
   "outputs": [],
   "source": [
    "# gradient\n",
    "# MSE = 1/N * (w*x - y)**2\n",
    "# dj/dw = 1/N 2x (w*x - y)\n",
    "def gradient(x, y, y_hat):\n",
    "    return np.dot(2 * x, y_hat - y).mean()"
   ]
  },
  {
   "cell_type": "code",
   "execution_count": 104,
   "id": "c371053f",
   "metadata": {},
   "outputs": [
    {
     "name": "stdout",
     "output_type": "stream",
     "text": [
      "Prediction before training: f(5) = 0.000\n"
     ]
    }
   ],
   "source": [
    "print(f'Prediction before training: f(5) = {forward(5):.3f}')"
   ]
  },
  {
   "cell_type": "code",
   "execution_count": 105,
   "id": "f8782d8b",
   "metadata": {},
   "outputs": [
    {
     "name": "stdout",
     "output_type": "stream",
     "text": [
      "epoch 1: w = 1.200, loss = 30.000000\n",
      "epoch 3: w = 1.872, loss = 0.768000\n",
      "epoch 5: w = 1.980, loss = 0.019661\n",
      "epoch 7: w = 1.997, loss = 0.000503\n",
      "epoch 9: w = 1.999, loss = 0.000013\n",
      "epoch 11: w = 2.000, loss = 0.000000\n",
      "epoch 13: w = 2.000, loss = 0.000000\n",
      "epoch 15: w = 2.000, loss = 0.000000\n",
      "epoch 17: w = 2.000, loss = 0.000000\n",
      "epoch 19: w = 2.000, loss = 0.000000\n"
     ]
    }
   ],
   "source": [
    "# Training\n",
    "lr = 0.01\n",
    "n_iter = 20\n",
    "for epoch in range(n_iter):\n",
    "    # prediction = forwars pass\n",
    "    y_pred = forward(X)\n",
    "    \n",
    "    # loss\n",
    "    l = loss(Y, y_pred)\n",
    "    \n",
    "    # gradient\n",
    "    dw = gradient(X, Y, y_pred)\n",
    "    \n",
    "    # update weights\n",
    "    w -= lr * dw\n",
    "    \n",
    "    if epoch % 2 == 0:\n",
    "        print(f'epoch {epoch+1}: w = {w:.3f}, loss = {l:8f}')"
   ]
  },
  {
   "cell_type": "code",
   "execution_count": 106,
   "id": "2f3800de",
   "metadata": {},
   "outputs": [
    {
     "name": "stdout",
     "output_type": "stream",
     "text": [
      "Prediction after training: f(5) = 10.000\n"
     ]
    }
   ],
   "source": [
    "print(f'Prediction after training: f(5) = {forward(5):.3f}')"
   ]
  },
  {
   "cell_type": "markdown",
   "id": "d193473d",
   "metadata": {},
   "source": [
    "# Calculating Gradient with Pytorch (Automatic Method)\n",
    "## Same Linear Model Example"
   ]
  },
  {
   "cell_type": "code",
   "execution_count": 107,
   "id": "28efca24",
   "metadata": {},
   "outputs": [],
   "source": [
    "import torch"
   ]
  },
  {
   "cell_type": "code",
   "execution_count": 108,
   "id": "5ddf68e4",
   "metadata": {},
   "outputs": [],
   "source": [
    "# f = w * x\n",
    "# f = 2 * x\n",
    "X = torch.tensor([1, 2, 3, 4], dtype=torch.float32)\n",
    "Y = torch.tensor([2, 4, 6, 8], dtype=torch.float32)\n",
    "w = torch.tensor(0.0, dtype=torch.float32, requires_grad=True)"
   ]
  },
  {
   "cell_type": "code",
   "execution_count": 109,
   "id": "2b3655f9",
   "metadata": {},
   "outputs": [
    {
     "name": "stdout",
     "output_type": "stream",
     "text": [
      "Prediction before training: f(5) = 0.000\n"
     ]
    }
   ],
   "source": [
    "print(f'Prediction before training: f(5) = {forward(5):.3f}')"
   ]
  },
  {
   "cell_type": "code",
   "execution_count": 110,
   "id": "c1a7c9f7",
   "metadata": {},
   "outputs": [
    {
     "name": "stdout",
     "output_type": "stream",
     "text": [
      "epoch 1: w = 0.300, loss = 30.000000\n",
      "epoch 11: w = 1.665, loss = 1.162786\n",
      "epoch 21: w = 1.934, loss = 0.045069\n",
      "epoch 31: w = 1.987, loss = 0.001747\n",
      "epoch 41: w = 1.997, loss = 0.000068\n",
      "epoch 51: w = 1.999, loss = 0.000003\n",
      "epoch 61: w = 2.000, loss = 0.000000\n",
      "epoch 71: w = 2.000, loss = 0.000000\n",
      "epoch 81: w = 2.000, loss = 0.000000\n",
      "epoch 91: w = 2.000, loss = 0.000000\n"
     ]
    }
   ],
   "source": [
    "# Training\n",
    "lr = 0.01\n",
    "n_iter = 100\n",
    "for epoch in range(n_iter):\n",
    "    # prediction = forwars pass\n",
    "    y_pred = forward(X)\n",
    "    \n",
    "    # loss\n",
    "    l = loss(Y, y_pred)\n",
    "    \n",
    "    # gradient = backward pass\n",
    "    l.backward() # dl/dw\n",
    "    \n",
    "    # update weights\n",
    "    with torch.no_grad():\n",
    "        w -= lr * w.grad\n",
    "    \n",
    "    # zero gradients\n",
    "    w.grad.zero_()\n",
    "    \n",
    "    if epoch % 10 == 0:\n",
    "        print(f'epoch {epoch+1}: w = {w:.3f}, loss = {l:8f}')"
   ]
  },
  {
   "cell_type": "code",
   "execution_count": 111,
   "id": "f72905d7",
   "metadata": {},
   "outputs": [
    {
     "name": "stdout",
     "output_type": "stream",
     "text": [
      "Prediction after training: f(5) = 10.000\n"
     ]
    }
   ],
   "source": [
    "print(f'Prediction after training: f(5) = {forward(5):.3f}')"
   ]
  },
  {
   "cell_type": "markdown",
   "id": "8a198860",
   "metadata": {},
   "source": [
    "# Automatically Compute Gradient, Loss, and Parameter Update\n",
    "##  Generally 3 steps involves in training pipeline\n",
    "### 1) Design Model (input size, output size, forward pass)\n",
    "### 2) Construct loss and optimizer\n",
    "### 3) Training loop includes the following:\n",
    "###     - forward pass: compute prediction\n",
    "###     - backward pass: gradients\n",
    "###     - update weights"
   ]
  },
  {
   "cell_type": "code",
   "execution_count": 112,
   "id": "37ce5a8e",
   "metadata": {},
   "outputs": [],
   "source": [
    "import torch.nn as nn"
   ]
  },
  {
   "cell_type": "code",
   "execution_count": 113,
   "id": "1b11785d",
   "metadata": {},
   "outputs": [],
   "source": [
    "# f = w * x\n",
    "# f = 2 * x\n",
    "X = torch.tensor([1, 2, 3, 4], dtype=torch.float32)\n",
    "Y = torch.tensor([2, 4, 6, 8], dtype=torch.float32)\n",
    "w = torch.tensor(0.0, dtype=torch.float32, requires_grad=True)"
   ]
  },
  {
   "cell_type": "code",
   "execution_count": 114,
   "id": "b1f5a47e",
   "metadata": {},
   "outputs": [
    {
     "name": "stdout",
     "output_type": "stream",
     "text": [
      "Prediction before training: f(5) = 0.000\n"
     ]
    }
   ],
   "source": [
    "print(f'Prediction before training: f(5) = {forward(5):.3f}')"
   ]
  },
  {
   "cell_type": "code",
   "execution_count": 115,
   "id": "2fd60bdd",
   "metadata": {},
   "outputs": [
    {
     "name": "stdout",
     "output_type": "stream",
     "text": [
      "epoch 1: w = 0.300, loss = 30.000000\n",
      "epoch 11: w = 1.665, loss = 1.162786\n",
      "epoch 21: w = 1.934, loss = 0.045069\n",
      "epoch 31: w = 1.987, loss = 0.001747\n",
      "epoch 41: w = 1.997, loss = 0.000068\n",
      "epoch 51: w = 1.999, loss = 0.000003\n",
      "epoch 61: w = 2.000, loss = 0.000000\n",
      "epoch 71: w = 2.000, loss = 0.000000\n",
      "epoch 81: w = 2.000, loss = 0.000000\n",
      "epoch 91: w = 2.000, loss = 0.000000\n"
     ]
    }
   ],
   "source": [
    "# Training\n",
    "learning_rate = 0.01\n",
    "n_iter = 100\n",
    "\n",
    "computed_loss = nn.MSELoss()\n",
    "optimizer = torch.optim.SGD([w], lr=learning_rate)\n",
    "\n",
    "for epoch in range(n_iter):\n",
    "    # prediction = forwars pass\n",
    "    y_pred = forward(X)\n",
    "    \n",
    "    # loss\n",
    "    l = loss(Y, y_pred)\n",
    "    \n",
    "    # gradient = backward pass\n",
    "    l.backward() # dl/dw\n",
    "    \n",
    "    # update weights\n",
    "    optimizer.step()\n",
    "    \n",
    "    # zero gradients\n",
    "    optimizer.zero_grad()\n",
    "    \n",
    "    if epoch % 10 == 0:\n",
    "        print(f'epoch {epoch+1}: w = {w:.3f}, loss = {l:8f}')"
   ]
  },
  {
   "cell_type": "code",
   "execution_count": 116,
   "id": "4f1a9692",
   "metadata": {},
   "outputs": [
    {
     "name": "stdout",
     "output_type": "stream",
     "text": [
      "Prediction after training: f(5) = 10.000\n"
     ]
    }
   ],
   "source": [
    "print(f'Prediction after training: f(5) = {forward(5):.3f}')"
   ]
  },
  {
   "cell_type": "markdown",
   "id": "237d7610",
   "metadata": {},
   "source": [
    "# Automatically Compute Gradient, Loss, Parameter Update, and Predition (Pytorch)"
   ]
  },
  {
   "cell_type": "code",
   "execution_count": 117,
   "id": "f8d01f6d",
   "metadata": {},
   "outputs": [],
   "source": [
    "# f = w * x\n",
    "# f = 2 * x\n",
    "X = torch.tensor([[1], [2], [3], [4]], dtype=torch.float32)\n",
    "Y = torch.tensor([[2], [4], [6], [8]], dtype=torch.float32)\n",
    "X_test = torch.tensor([5], dtype=torch.float32)"
   ]
  },
  {
   "cell_type": "code",
   "execution_count": 118,
   "id": "0a7e0295",
   "metadata": {},
   "outputs": [
    {
     "name": "stdout",
     "output_type": "stream",
     "text": [
      "4 1\n"
     ]
    }
   ],
   "source": [
    "n_samples, n_features = X.shape\n",
    "print(n_samples, n_features)"
   ]
  },
  {
   "cell_type": "code",
   "execution_count": 119,
   "id": "a9a8dbb4",
   "metadata": {},
   "outputs": [],
   "source": [
    "input_size = n_features\n",
    "output_size = n_features"
   ]
  },
  {
   "cell_type": "code",
   "execution_count": 120,
   "id": "d09c2c7d",
   "metadata": {},
   "outputs": [],
   "source": [
    "model = nn.Linear(input_size, output_size)"
   ]
  },
  {
   "cell_type": "code",
   "execution_count": 121,
   "id": "9878e10d",
   "metadata": {},
   "outputs": [
    {
     "name": "stdout",
     "output_type": "stream",
     "text": [
      "Prediction before training: f(5) = -3.770\n"
     ]
    }
   ],
   "source": [
    "print(f'Prediction before training: f(5) = {model(X_test).item():.3f}')"
   ]
  },
  {
   "cell_type": "code",
   "execution_count": 122,
   "id": "4484d50f",
   "metadata": {},
   "outputs": [
    {
     "name": "stdout",
     "output_type": "stream",
     "text": [
      "epoch 1: w = -0.311, loss = 57.641426\n",
      "epoch 11: w = 1.434, loss = 1.568064\n",
      "epoch 21: w = 1.720, loss = 0.112846\n",
      "epoch 31: w = 1.772, loss = 0.070989\n",
      "epoch 41: w = 1.786, loss = 0.065944\n",
      "epoch 51: w = 1.793, loss = 0.062082\n",
      "epoch 61: w = 1.799, loss = 0.058468\n",
      "epoch 71: w = 1.805, loss = 0.055065\n",
      "epoch 81: w = 1.811, loss = 0.051860\n",
      "epoch 91: w = 1.817, loss = 0.048841\n"
     ]
    }
   ],
   "source": [
    "# Training\n",
    "learning_rate = 0.01\n",
    "n_iter = 100\n",
    "\n",
    "computed_loss = nn.MSELoss()\n",
    "optimizer = torch.optim.SGD(model.parameters(), lr=learning_rate)\n",
    "\n",
    "for epoch in range(n_iter):\n",
    "    # prediction = forwars pass\n",
    "    y_pred = model(X)\n",
    "    \n",
    "    # loss\n",
    "    l = loss(Y, y_pred)\n",
    "    \n",
    "    # gradient = backward pass\n",
    "    l.backward() # dl/dw\n",
    "    \n",
    "    # update weights\n",
    "    optimizer.step()\n",
    "    \n",
    "    # zero gradients\n",
    "    optimizer.zero_grad()\n",
    "    \n",
    "    if epoch % 10 == 0:\n",
    "        [w, b] = model.parameters() #unpacking parameters of the model\n",
    "        print(f'epoch {epoch+1}: w = {w[0][0].item():.3f}, loss = {l:8f}')"
   ]
  },
  {
   "cell_type": "code",
   "execution_count": 123,
   "id": "306ac5f7",
   "metadata": {},
   "outputs": [
    {
     "name": "stdout",
     "output_type": "stream",
     "text": [
      "Prediction after training: f(5) = 9.632\n"
     ]
    }
   ],
   "source": [
    "print(f'Prediction after training: f(5) = {model(X_test).item():.3f}')"
   ]
  }
 ],
 "metadata": {
  "kernelspec": {
   "display_name": "pytorch",
   "language": "python",
   "name": "pytorch"
  },
  "language_info": {
   "codemirror_mode": {
    "name": "ipython",
    "version": 3
   },
   "file_extension": ".py",
   "mimetype": "text/x-python",
   "name": "python",
   "nbconvert_exporter": "python",
   "pygments_lexer": "ipython3",
   "version": "3.9.16"
  }
 },
 "nbformat": 4,
 "nbformat_minor": 5
}
