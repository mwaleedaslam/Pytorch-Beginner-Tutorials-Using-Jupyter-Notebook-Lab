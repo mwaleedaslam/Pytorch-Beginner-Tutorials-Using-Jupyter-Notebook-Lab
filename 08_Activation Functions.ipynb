{
 "cells": [
  {
   "cell_type": "markdown",
   "id": "8486eafb",
   "metadata": {},
   "source": [
    "# Popular Activation Functions\n",
    "### 1. Step Function (Not used in practice)\n",
    "### 2. Sigmoid (Binary Classification, in the last layer)\n",
    "### 3. Softmax (Multiclass problem)\n",
    "### 4. ReLU (popular, good choice in hidden layers)\n",
    "### 5. Leaky ReLU (Improved version of ReLU, Solve the vanishing gradient problem)\n",
    "### 6. TanH (Good choice in Hidden layers)"
   ]
  },
  {
   "cell_type": "code",
   "execution_count": 4,
   "id": "dd902f86",
   "metadata": {},
   "outputs": [],
   "source": [
    "import torch\n",
    "import torch.nn as nn\n",
    "import torch.nn.functional as F"
   ]
  },
  {
   "cell_type": "markdown",
   "id": "e0867fa2",
   "metadata": {},
   "source": [
    "# Method 1: Create nn modules with activation functions"
   ]
  },
  {
   "cell_type": "code",
   "execution_count": 5,
   "id": "f219e34a",
   "metadata": {},
   "outputs": [],
   "source": [
    "# method 1: create nn modules with activation functions\n",
    "class NeuralNet(nn.Module):\n",
    "    def __init__(self, input_size, hidden_size):\n",
    "        super(NeuralNet, self).__init__()\n",
    "        self.linear1 = nn.Linear(input_size, hidden_size)\n",
    "        self.relu = nn.ReLU() # activation function\n",
    "        self.linear2 = nn.Linear(hidden_size, 1)\n",
    "        self.sigmoid = nn.Sigmoid() # another activation function\n",
    "        \n",
    "    def forward(self, inputs):\n",
    "        outputs = self.linear1(inputs)\n",
    "        outputs = self.relu(outputs)\n",
    "        outputs = self.linear2(outputs)\n",
    "        # at the end, sigmoid for binary\n",
    "        y_hat = self.sigmoid(outputs)\n",
    "        return y_hat"
   ]
  },
  {
   "cell_type": "markdown",
   "id": "579a8abf",
   "metadata": {},
   "source": [
    "# Method 2: Use activation functions directly in the forward pass method"
   ]
  },
  {
   "cell_type": "code",
   "execution_count": 6,
   "id": "34e9ff7e",
   "metadata": {},
   "outputs": [],
   "source": [
    "# method 2: use activation functions directly in the forward pass method\n",
    "class NeuralNet(nn.Module):\n",
    "    def __init__(self, input_size, hidden_size):\n",
    "        super(NeuralNet, self).__init__()\n",
    "        self.linear1 = nn.Linear(input_size, hidden_size)\n",
    "        self.linear2 = nn.Linear(hidden_size, 1)\n",
    "        \n",
    "    def forward(self, inputs):\n",
    "        outputs = torch.relu(self.linear1(inputs))\n",
    "        # at the end, sigmoid for binary\n",
    "        outputs = torch.sigmoid(self.linear2(outputs))\n",
    "        return outputs"
   ]
  },
  {
   "cell_type": "code",
   "execution_count": null,
   "id": "19e04129",
   "metadata": {},
   "outputs": [],
   "source": []
  }
 ],
 "metadata": {
  "kernelspec": {
   "display_name": "pytorch",
   "language": "python",
   "name": "pytorch"
  },
  "language_info": {
   "codemirror_mode": {
    "name": "ipython",
    "version": 3
   },
   "file_extension": ".py",
   "mimetype": "text/x-python",
   "name": "python",
   "nbconvert_exporter": "python",
   "pygments_lexer": "ipython3",
   "version": "3.9.16"
  }
 },
 "nbformat": 4,
 "nbformat_minor": 5
}
