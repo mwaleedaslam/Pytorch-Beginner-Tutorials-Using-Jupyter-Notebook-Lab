{
 "cells": [
  {
   "cell_type": "code",
   "execution_count": 88,
   "id": "804cf147",
   "metadata": {},
   "outputs": [],
   "source": [
    "import torch\n",
    "import torch.nn as nn\n",
    "import torch.nn.functional as F\n",
    "import torchvision\n",
    "import torchvision.transforms as transforms\n",
    "import numpy as np\n",
    "import matplotlib.pyplot as plt"
   ]
  },
  {
   "cell_type": "code",
   "execution_count": 89,
   "id": "79165d2d",
   "metadata": {},
   "outputs": [],
   "source": [
    "# device configuration\n",
    "device = torch.device('cuda' if torch.cuda.is_available() else 'cpu')"
   ]
  },
  {
   "cell_type": "code",
   "execution_count": 90,
   "id": "ca4fc70e",
   "metadata": {},
   "outputs": [],
   "source": [
    "# set important parameters\n",
    "l_rate = 0.001\n",
    "batch_size = 4\n",
    "n_epochs = 4"
   ]
  },
  {
   "cell_type": "code",
   "execution_count": 91,
   "id": "7cc25978",
   "metadata": {},
   "outputs": [
    {
     "name": "stdout",
     "output_type": "stream",
     "text": [
      "Files already downloaded and verified\n",
      "Dataset CIFAR10\n",
      "    Number of datapoints: 50000\n",
      "    Root location: ./data\n",
      "    Split: Train\n",
      "    StandardTransform\n",
      "Transform: ToTensor() Dataset CIFAR10\n",
      "    Number of datapoints: 10000\n",
      "    Root location: ./data\n",
      "    Split: Test\n",
      "    StandardTransform\n",
      "Transform: ToTensor()\n"
     ]
    }
   ],
   "source": [
    "# PIL image range of [0, 1] dataset is transformed into tensor and normalized in range [-1, 1]\n",
    "transform = transforms.Compose([transforms.ToTensor(), transforms.Normalize((0.5, 0.5, 0.5), (0.5, 0.5, 0.5))])\n",
    "\n",
    "# CIFAR10 data & transformation of data into tensor\n",
    "train_data = torchvision.datasets.CIFAR10(root='./data', train=True, transform=transforms.ToTensor(), download=True)\n",
    "\n",
    "test_data = torchvision.datasets.CIFAR10(root='./data', train=False, transform=transforms.ToTensor())\n",
    "print(train_data, test_data)"
   ]
  },
  {
   "cell_type": "code",
   "execution_count": 92,
   "id": "eeaf2e6e",
   "metadata": {},
   "outputs": [
    {
     "name": "stdout",
     "output_type": "stream",
     "text": [
      "<torch.utils.data.dataloader.DataLoader object at 0x0000014F04D61C10>\n"
     ]
    }
   ],
   "source": [
    "# load batchsize of 100\n",
    "train_loader = torch.utils.data.DataLoader(dataset=train_data, batch_size=batch_size, shuffle=True)\n",
    "test_loader = torch.utils.data.DataLoader(dataset=test_data, batch_size=batch_size, shuffle=False)\n",
    "print(train_loader)"
   ]
  },
  {
   "cell_type": "code",
   "execution_count": 93,
   "id": "c26c8bbc",
   "metadata": {},
   "outputs": [],
   "source": [
    "# label classes\n",
    "classes = ('plane', 'car', 'bird', 'cat', 'deer', 'dog', 'frog', 'horse', 'ship', 'truck')"
   ]
  },
  {
   "cell_type": "code",
   "execution_count": 94,
   "id": "4988f75c",
   "metadata": {},
   "outputs": [],
   "source": [
    "def imshow(img):\n",
    "    img = img / 2 + 0.5  # unnormalize\n",
    "    npimg = img.numpy()\n",
    "    plt.imshow(np.transpose(npimg, (1, 2, 0)))\n",
    "    plt.show()"
   ]
  },
  {
   "cell_type": "code",
   "execution_count": 95,
   "id": "f7f58982",
   "metadata": {},
   "outputs": [
    {
     "data": {
      "image/png": "[encoded data removed]",
      "text/plain": [
       "<Figure size 640x480 with 1 Axes>"
      ]
     },
     "metadata": {},
     "output_type": "display_data"
    }
   ],
   "source": [
    "# get some random training images\n",
    "dataiter = iter(train_loader)\n",
    "images, labels = next(dataiter)\n",
    "\n",
    "# show images\n",
    "imshow(torchvision.utils.make_grid(images))"
   ]
  },
  {
   "cell_type": "code",
   "execution_count": 96,
   "id": "d460bd94",
   "metadata": {},
   "outputs": [],
   "source": [
    "# CNN implementation\n",
    "class CNN(nn.Module):\n",
    "    def __init__(self):\n",
    "        super(CNN, self).__init__()\n",
    "        # 2 covolutional layers\n",
    "        self.conv1 = nn.Conv2d(3, 6, 5)\n",
    "        self.pool = nn.MaxPool2d(2, 2)\n",
    "        self.conv2 = nn.Conv2d(6, 16, 5)\n",
    "        # 3 flattern layers\n",
    "        self.fc1 = nn.Linear(16*5*5, 120) # after 2 covolutions, the correct image size = [4, 16, 5, 5]\n",
    "        self.fc2 = nn.Linear(120, 84)\n",
    "        self.fc3 = nn.Linear(84, 10)\n",
    "        \n",
    "    def forward(self, inputs):\n",
    "        # -> n, 3, 32, 32\n",
    "        inputs = self.pool(F.relu(self.conv1(inputs)))  # -> n, 6, 14, 14\n",
    "        inputs = self.pool(F.relu(self.conv2(inputs)))  # -> n, 16, 5, 5\n",
    "        inputs = inputs.view(-1, 16*5*5)            # -> n, 400\n",
    "        inputs = F.relu(self.fc1(inputs))               # -> n, 120\n",
    "        inputs = F.relu(self.fc2(inputs))               # -> n, 84\n",
    "        inputs = self.fc3(inputs)                       # -> n, 10\n",
    "        return inputs"
   ]
  },
  {
   "cell_type": "code",
   "execution_count": 97,
   "id": "a4431098",
   "metadata": {},
   "outputs": [],
   "source": [
    "model = CNN().to(device)"
   ]
  },
  {
   "cell_type": "code",
   "execution_count": 98,
   "id": "98fecda8",
   "metadata": {},
   "outputs": [],
   "source": [
    "# loss and optimizer\n",
    "criterion =  nn.CrossEntropyLoss() # nn.CrossEntropyLoss() automaticsally applies Softmax\n",
    "optimizer = torch.optim.SGD(model.parameters(), lr=l_rate)"
   ]
  },
  {
   "cell_type": "code",
   "execution_count": 99,
   "id": "69dc01bb",
   "metadata": {},
   "outputs": [
    {
     "name": "stdout",
     "output_type": "stream",
     "text": [
      "epoch 1 / 4, step 2000 / 12500, loss = 2.3295\n",
      "epoch 1 / 4, step 4000 / 12500, loss = 2.3101\n",
      "epoch 1 / 4, step 6000 / 12500, loss = 2.2886\n",
      "epoch 1 / 4, step 8000 / 12500, loss = 2.2856\n",
      "epoch 1 / 4, step 10000 / 12500, loss = 2.2928\n",
      "epoch 1 / 4, step 12000 / 12500, loss = 2.2461\n",
      "epoch 2 / 4, step 2000 / 12500, loss = 2.2908\n",
      "epoch 2 / 4, step 4000 / 12500, loss = 1.6579\n",
      "epoch 2 / 4, step 6000 / 12500, loss = 2.1317\n",
      "epoch 2 / 4, step 8000 / 12500, loss = 2.1851\n",
      "epoch 2 / 4, step 10000 / 12500, loss = 2.1735\n",
      "epoch 2 / 4, step 12000 / 12500, loss = 2.2281\n",
      "epoch 3 / 4, step 2000 / 12500, loss = 1.8577\n",
      "epoch 3 / 4, step 4000 / 12500, loss = 1.3832\n",
      "epoch 3 / 4, step 6000 / 12500, loss = 1.3559\n",
      "epoch 3 / 4, step 8000 / 12500, loss = 1.6669\n",
      "epoch 3 / 4, step 10000 / 12500, loss = 1.0200\n",
      "epoch 3 / 4, step 12000 / 12500, loss = 2.4279\n",
      "epoch 4 / 4, step 2000 / 12500, loss = 1.5443\n",
      "epoch 4 / 4, step 4000 / 12500, loss = 1.6111\n",
      "epoch 4 / 4, step 6000 / 12500, loss = 2.1399\n",
      "epoch 4 / 4, step 8000 / 12500, loss = 1.2722\n",
      "epoch 4 / 4, step 10000 / 12500, loss = 1.0592\n",
      "epoch 4 / 4, step 12000 / 12500, loss = 1.8041\n"
     ]
    }
   ],
   "source": [
    "# training loop\n",
    "n_steps = len(train_loader)\n",
    "for epoch in range(n_epochs):\n",
    "    for i, (images, labels) in enumerate(train_loader):\n",
    "        # shape: 4, 3, 32, 32 = 4, 3, 1024\n",
    "        # input layer: 3 input channels, 6 input channels, 5 kernel size\n",
    "        images = images.to(device)\n",
    "        labels = labels.to(device)\n",
    "        \n",
    "        # forward pass\n",
    "        out = model(images)\n",
    "        loss = criterion(out, labels)\n",
    "        \n",
    "        # backward pass\n",
    "        optimizer.zero_grad()\n",
    "        loss.backward()\n",
    "        optimizer.step()\n",
    "        \n",
    "        if (i+1) % 2000 == 0:\n",
    "            print(f'epoch {epoch+1} / {n_epochs}, step {i+1} / {n_steps}, loss = {loss.item():.4f}')"
   ]
  },
  {
   "cell_type": "code",
   "execution_count": 100,
   "id": "6cce54c5",
   "metadata": {},
   "outputs": [
    {
     "name": "stdout",
     "output_type": "stream",
     "text": [
      "CNN network accuracy = 39.93\n",
      "accuracy of class truck: 47.5 %\n"
     ]
    }
   ],
   "source": [
    "# testing model\n",
    "with torch.no_grad():\n",
    "    n_correct = 0\n",
    "    n_samples = 0\n",
    "    n_class_correct = [0 for i in range(10)]\n",
    "    n_class_samples = [0 for i in range(10)]\n",
    "    for images, labels in test_loader:\n",
    "        images = images.to(device)\n",
    "        labels = labels.to(device)\n",
    "        out = model(images)\n",
    "        \n",
    "        # value, index\n",
    "        _, predictions = torch.max(out, 1)\n",
    "        n_samples += labels.shape[0]\n",
    "        n_correct += (predictions == labels).sum().item()\n",
    "        \n",
    "        for i in range(batch_size):\n",
    "            label = labels[i]\n",
    "            pred = predictions[i]\n",
    "            if label == pred:\n",
    "                n_class_correct[label] += 1\n",
    "            n_class_samples[label] += 1\n",
    "        \n",
    "    accuracy = 100.0 * n_correct / n_samples\n",
    "    print(f'CNN network accuracy = {accuracy}')\n",
    "    \n",
    "    for i in range(10):\n",
    "        accuracy = 100.0 * n_class_correct[i] / n_class_samples[i]\n",
    "    print(f'accuracy of class {classes[i]}: {accuracy} %')"
   ]
  },
  {
   "cell_type": "code",
   "execution_count": null,
   "id": "16d9089a",
   "metadata": {},
   "outputs": [],
   "source": []
  }
 ],
 "metadata": {
  "kernelspec": {
   "display_name": "pytorch",
   "language": "python",
   "name": "pytorch"
  },
  "language_info": {
   "codemirror_mode": {
    "name": "ipython",
    "version": 3
   },
   "file_extension": ".py",
   "mimetype": "text/x-python",
   "name": "python",
   "nbconvert_exporter": "python",
   "pygments_lexer": "ipython3",
   "version": "3.9.16"
  }
 },
 "nbformat": 4,
 "nbformat_minor": 5
}
