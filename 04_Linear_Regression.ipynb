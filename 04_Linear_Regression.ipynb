{
 "cells": [
  {
   "cell_type": "markdown",
   "id": "e64dd27c",
   "metadata": {},
   "source": [
    "##  Generally 3 steps involves in training pipeline\n",
    "### 1) Design Model (input size, output size, forward pass)\n",
    "### 2) Construct loss and optimizer\n",
    "### 3) Training loop includes the following:\n",
    "###     - forward pass: compute prediction\n",
    "###     - backward pass: gradients\n",
    "###     - update weights"
   ]
  },
  {
   "cell_type": "code",
   "execution_count": 24,
   "id": "505e8d5f",
   "metadata": {},
   "outputs": [],
   "source": [
    "import torch\n",
    "import torch.nn as nn\n",
    "import numpy as np\n",
    "from sklearn import datasets\n",
    "import matplotlib.pyplot as plt"
   ]
  },
  {
   "cell_type": "code",
   "execution_count": 25,
   "id": "804716f7",
   "metadata": {},
   "outputs": [],
   "source": [
    "# prepare regression data\n",
    "x, y = datasets.make_regression(n_samples=100, n_features=1, noise=20, random_state=1)"
   ]
  },
  {
   "cell_type": "code",
   "execution_count": 26,
   "id": "11aab15a",
   "metadata": {},
   "outputs": [
    {
     "name": "stdout",
     "output_type": "stream",
     "text": [
      "torch.Size([100, 1]) torch.Size([100])\n",
      "torch.Size([100, 1])\n"
     ]
    }
   ],
   "source": [
    "X = torch.from_numpy(x.astype(np.float32))\n",
    "Y = torch.from_numpy(y.astype(np.float32))\n",
    "print(X.shape, Y.shape)\n",
    "# reshape Y\n",
    "Y = Y.view(Y.shape[0], 1)\n",
    "print(Y.shape)"
   ]
  },
  {
   "cell_type": "code",
   "execution_count": 27,
   "id": "16e7133f",
   "metadata": {},
   "outputs": [],
   "source": [
    "n_samples, n_features = X.shape"
   ]
  },
  {
   "cell_type": "markdown",
   "id": "5a71626e",
   "metadata": {},
   "source": [
    "# Presteps of Preparing Model to Use\n",
    "### 1) model\n",
    "### 2) loss and optimizer\n",
    "### 3) training loop"
   ]
  },
  {
   "cell_type": "code",
   "execution_count": 28,
   "id": "66c9d969",
   "metadata": {},
   "outputs": [],
   "source": [
    "# 1) model\n",
    "input_size = n_features\n",
    "output_size = 1\n",
    "model = nn.Linear(input_size, output_size)"
   ]
  },
  {
   "cell_type": "code",
   "execution_count": 29,
   "id": "8cba9e77",
   "metadata": {},
   "outputs": [],
   "source": [
    "# 2) loss and optimizer\n",
    "criterion = nn.MSELoss()\n",
    "optimizer = torch.optim.SGD(model.parameters(), lr=0.01)"
   ]
  },
  {
   "cell_type": "code",
   "execution_count": 30,
   "id": "bb6bad5e",
   "metadata": {},
   "outputs": [
    {
     "name": "stdout",
     "output_type": "stream",
     "text": [
      "epoch: 10, loss: 4346.0713\n",
      "epoch: 20, loss: 3241.9170\n",
      "epoch: 30, loss: 2443.4878\n",
      "epoch: 40, loss: 1865.4916\n",
      "epoch: 50, loss: 1446.6385\n",
      "epoch: 60, loss: 1142.8219\n",
      "epoch: 70, loss: 922.2527\n",
      "epoch: 80, loss: 761.9911\n",
      "epoch: 90, loss: 645.4606\n",
      "epoch: 100, loss: 560.6697\n"
     ]
    }
   ],
   "source": [
    "# 3) training loop\n",
    "num_epochs = 100\n",
    "for epoch in range(num_epochs):\n",
    "    # forward pass and loss\n",
    "    y_pred = model(X)\n",
    "    loss = criterion(y_pred, Y)\n",
    "    \n",
    "    #backward pass\n",
    "    loss.backward()\n",
    "    \n",
    "    # update paramters\n",
    "    optimizer.step()\n",
    "    \n",
    "    optimizer.zero_grad()\n",
    "    \n",
    "    if (epoch+1) % 10 == 0:\n",
    "        print(f'epoch: {epoch+1}, loss: {loss.item():.4f}')"
   ]
  },
  {
   "cell_type": "code",
   "execution_count": 32,
   "id": "91a165a2",
   "metadata": {},
   "outputs": [
    {
     "data": {
      "image/png": "[encoded data removed]",
      "text/plain": [
       "<Figure size 640x480 with 1 Axes>"
      ]
     },
     "metadata": {},
     "output_type": "display_data"
    }
   ],
   "source": [
    "# plot\n",
    "predicted = model(X).detach().numpy()\n",
    "plt.plot(x, y, 'ro')\n",
    "plt.plot(x, predicted, 'b')\n",
    "plt.show()"
   ]
  },
  {
   "cell_type": "code",
   "execution_count": null,
   "id": "55390252",
   "metadata": {},
   "outputs": [],
   "source": []
  }
 ],
 "metadata": {
  "kernelspec": {
   "display_name": "pytorch",
   "language": "python",
   "name": "pytorch"
  },
  "language_info": {
   "codemirror_mode": {
    "name": "ipython",
    "version": 3
   },
   "file_extension": ".py",
   "mimetype": "text/x-python",
   "name": "python",
   "nbconvert_exporter": "python",
   "pygments_lexer": "ipython3",
   "version": "3.9.16"
  }
 },
 "nbformat": 4,
 "nbformat_minor": 5
}
