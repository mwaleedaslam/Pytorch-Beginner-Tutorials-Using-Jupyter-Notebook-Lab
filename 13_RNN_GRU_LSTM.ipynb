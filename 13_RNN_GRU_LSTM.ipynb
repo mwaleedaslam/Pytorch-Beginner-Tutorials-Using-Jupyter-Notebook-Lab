{
 "cells": [
  {
   "cell_type": "markdown",
   "id": "be53d6bb",
   "metadata": {},
   "source": [
    "# Use Builtin RNN, GRU, and LSTM\n",
    "## Major Used Concepts\n",
    "### 1. MNIST Dataset for Image Classification\n",
    "### 2. Treat the Image as Sequence Instead of Squeezing it into 1D i.e. (one dimenstion of the image will be considered as a sequence, the other dimention will be considered as a feature size)"
   ]
  },
  {
   "cell_type": "code",
   "execution_count": 26,
   "id": "d26dc37b",
   "metadata": {
    "tags": []
   },
   "outputs": [],
   "source": [
    "import torch\n",
    "import torch.nn as nn\n",
    "import torchvision\n",
    "import torchvision.transforms as transforms\n",
    "import matplotlib.pyplot as plt"
   ]
  },
  {
   "cell_type": "code",
   "execution_count": 27,
   "id": "38bd8c22",
   "metadata": {
    "tags": []
   },
   "outputs": [],
   "source": [
    "# device configuration\n",
    "device = torch.device('cuda' if torch.cuda.is_available() else 'cpu')"
   ]
  },
  {
   "cell_type": "code",
   "execution_count": 28,
   "id": "3ee7ed9a",
   "metadata": {
    "tags": []
   },
   "outputs": [],
   "source": [
    "# set important parameters\n",
    "input_size = 28 # because 1 row = 28\n",
    "sequence_size = 28 # because 1 col = 28\n",
    "n_layers = 2\n",
    "hidden_size = 128 # can be tried different sizes\n",
    "n_classes = 10 # because MNIST data will have total 10 classes\n",
    "l_rate = 0.001\n",
    "batch_size = 100\n",
    "n_epochs = 2"
   ]
  },
  {
   "cell_type": "code",
   "execution_count": 29,
   "id": "14e0427e",
   "metadata": {
    "tags": []
   },
   "outputs": [
    {
     "name": "stdout",
     "output_type": "stream",
     "text": [
      "Dataset MNIST\n",
      "    Number of datapoints: 60000\n",
      "    Root location: ./data\n",
      "    Split: Train\n",
      "    StandardTransform\n",
      "Transform: ToTensor() Dataset MNIST\n",
      "    Number of datapoints: 10000\n",
      "    Root location: ./data\n",
      "    Split: Test\n",
      "    StandardTransform\n",
      "Transform: ToTensor()\n"
     ]
    }
   ],
   "source": [
    "# MNIST data & transformation of data into tensor\n",
    "train_data = torchvision.datasets.MNIST(root='./data', train=True, transform=transforms.ToTensor(), download=True)\n",
    "\n",
    "test_data = torchvision.datasets.MNIST(root='./data', train=False, transform=transforms.ToTensor())\n",
    "print(train_data, test_data)"
   ]
  },
  {
   "cell_type": "code",
   "execution_count": 30,
   "id": "315a8bf6",
   "metadata": {
    "tags": []
   },
   "outputs": [],
   "source": [
    "# load batchsize of 100\n",
    "train_loader = torch.utils.data.DataLoader(dataset=train_data, batch_size=batch_size, shuffle=True)\n",
    "test_loader = torch.utils.data.DataLoader(dataset=test_data, batch_size=batch_size, shuffle=False)\n"
   ]
  },
  {
   "cell_type": "code",
   "execution_count": 31,
   "id": "4890df30",
   "metadata": {
    "tags": []
   },
   "outputs": [
    {
     "name": "stdout",
     "output_type": "stream",
     "text": [
      "torch.Size([100, 1, 28, 28]) torch.Size([100])\n",
      "torch.Size([100, 1, 28, 28]) torch.Size([100])\n",
      "torch.Size([100, 1, 28, 28]) torch.Size([100])\n",
      "torch.Size([100, 1, 28, 28]) torch.Size([100])\n",
      "torch.Size([100, 1, 28, 28]) torch.Size([100])\n",
      "torch.Size([100, 1, 28, 28]) torch.Size([100])\n",
      "torch.Size([100, 1, 28, 28]) torch.Size([100])\n",
      "torch.Size([100, 1, 28, 28]) torch.Size([100])\n",
      "torch.Size([100, 1, 28, 28]) torch.Size([100])\n",
      "torch.Size([100, 1, 28, 28]) torch.Size([100])\n",
      "torch.Size([100, 1, 28, 28]) torch.Size([100])\n",
      "torch.Size([100, 1, 28, 28]) torch.Size([100])\n",
      "torch.Size([100, 1, 28, 28]) torch.Size([100])\n",
      "torch.Size([100, 1, 28, 28]) torch.Size([100])\n",
      "torch.Size([100, 1, 28, 28]) torch.Size([100])\n",
      "torch.Size([100, 1, 28, 28]) torch.Size([100])\n",
      "torch.Size([100, 1, 28, 28]) torch.Size([100])\n",
      "torch.Size([100, 1, 28, 28]) torch.Size([100])\n",
      "torch.Size([100, 1, 28, 28]) torch.Size([100])\n",
      "torch.Size([100, 1, 28, 28]) torch.Size([100])\n",
      "torch.Size([100, 1, 28, 28]) torch.Size([100])\n",
      "torch.Size([100, 1, 28, 28]) torch.Size([100])\n",
      "torch.Size([100, 1, 28, 28]) torch.Size([100])\n",
      "torch.Size([100, 1, 28, 28]) torch.Size([100])\n",
      "torch.Size([100, 1, 28, 28]) torch.Size([100])\n",
      "torch.Size([100, 1, 28, 28]) torch.Size([100])\n",
      "torch.Size([100, 1, 28, 28]) torch.Size([100])\n",
      "torch.Size([100, 1, 28, 28]) torch.Size([100])\n",
      "torch.Size([100, 1, 28, 28]) torch.Size([100])\n",
      "torch.Size([100, 1, 28, 28]) torch.Size([100])\n",
      "torch.Size([100, 1, 28, 28]) torch.Size([100])\n",
      "torch.Size([100, 1, 28, 28]) torch.Size([100])\n",
      "torch.Size([100, 1, 28, 28]) torch.Size([100])\n",
      "torch.Size([100, 1, 28, 28]) torch.Size([100])\n",
      "torch.Size([100, 1, 28, 28]) torch.Size([100])\n",
      "torch.Size([100, 1, 28, 28]) torch.Size([100])\n",
      "torch.Size([100, 1, 28, 28]) torch.Size([100])\n",
      "torch.Size([100, 1, 28, 28]) torch.Size([100])\n",
      "torch.Size([100, 1, 28, 28]) torch.Size([100])\n",
      "torch.Size([100, 1, 28, 28]) torch.Size([100])\n",
      "torch.Size([100, 1, 28, 28]) torch.Size([100])\n",
      "torch.Size([100, 1, 28, 28]) torch.Size([100])\n",
      "torch.Size([100, 1, 28, 28]) torch.Size([100])\n",
      "torch.Size([100, 1, 28, 28]) torch.Size([100])\n",
      "torch.Size([100, 1, 28, 28]) torch.Size([100])\n",
      "torch.Size([100, 1, 28, 28]) torch.Size([100])\n",
      "torch.Size([100, 1, 28, 28]) torch.Size([100])\n",
      "torch.Size([100, 1, 28, 28]) torch.Size([100])\n",
      "torch.Size([100, 1, 28, 28]) torch.Size([100])\n",
      "torch.Size([100, 1, 28, 28]) torch.Size([100])\n",
      "torch.Size([100, 1, 28, 28]) torch.Size([100])\n",
      "torch.Size([100, 1, 28, 28]) torch.Size([100])\n",
      "torch.Size([100, 1, 28, 28]) torch.Size([100])\n",
      "torch.Size([100, 1, 28, 28]) torch.Size([100])\n",
      "torch.Size([100, 1, 28, 28]) torch.Size([100])\n",
      "torch.Size([100, 1, 28, 28]) torch.Size([100])\n",
      "torch.Size([100, 1, 28, 28]) torch.Size([100])\n",
      "torch.Size([100, 1, 28, 28]) torch.Size([100])\n",
      "torch.Size([100, 1, 28, 28]) torch.Size([100])\n",
      "torch.Size([100, 1, 28, 28]) torch.Size([100])\n",
      "torch.Size([100, 1, 28, 28]) torch.Size([100])\n",
      "torch.Size([100, 1, 28, 28]) torch.Size([100])\n",
      "torch.Size([100, 1, 28, 28]) torch.Size([100])\n",
      "torch.Size([100, 1, 28, 28]) torch.Size([100])\n",
      "torch.Size([100, 1, 28, 28]) torch.Size([100])\n",
      "torch.Size([100, 1, 28, 28]) torch.Size([100])\n",
      "torch.Size([100, 1, 28, 28]) torch.Size([100])\n",
      "torch.Size([100, 1, 28, 28]) torch.Size([100])\n",
      "torch.Size([100, 1, 28, 28]) torch.Size([100])\n",
      "torch.Size([100, 1, 28, 28]) torch.Size([100])\n",
      "torch.Size([100, 1, 28, 28]) torch.Size([100])\n",
      "torch.Size([100, 1, 28, 28]) torch.Size([100])\n",
      "torch.Size([100, 1, 28, 28]) torch.Size([100])\n",
      "torch.Size([100, 1, 28, 28]) torch.Size([100])\n",
      "torch.Size([100, 1, 28, 28]) torch.Size([100])\n",
      "torch.Size([100, 1, 28, 28]) torch.Size([100])\n",
      "torch.Size([100, 1, 28, 28]) torch.Size([100])\n",
      "torch.Size([100, 1, 28, 28]) torch.Size([100])\n",
      "torch.Size([100, 1, 28, 28]) torch.Size([100])\n",
      "torch.Size([100, 1, 28, 28]) torch.Size([100])\n",
      "torch.Size([100, 1, 28, 28]) torch.Size([100])\n",
      "torch.Size([100, 1, 28, 28]) torch.Size([100])\n",
      "torch.Size([100, 1, 28, 28]) torch.Size([100])\n",
      "torch.Size([100, 1, 28, 28]) torch.Size([100])\n",
      "torch.Size([100, 1, 28, 28]) torch.Size([100])\n",
      "torch.Size([100, 1, 28, 28]) torch.Size([100])\n",
      "torch.Size([100, 1, 28, 28]) torch.Size([100])\n",
      "torch.Size([100, 1, 28, 28]) torch.Size([100])\n",
      "torch.Size([100, 1, 28, 28]) torch.Size([100])\n",
      "torch.Size([100, 1, 28, 28]) torch.Size([100])\n",
      "torch.Size([100, 1, 28, 28]) torch.Size([100])\n",
      "torch.Size([100, 1, 28, 28]) torch.Size([100])\n",
      "torch.Size([100, 1, 28, 28]) torch.Size([100])\n",
      "torch.Size([100, 1, 28, 28]) torch.Size([100])\n",
      "torch.Size([100, 1, 28, 28]) torch.Size([100])\n",
      "torch.Size([100, 1, 28, 28]) torch.Size([100])\n",
      "torch.Size([100, 1, 28, 28]) torch.Size([100])\n",
      "torch.Size([100, 1, 28, 28]) torch.Size([100])\n",
      "torch.Size([100, 1, 28, 28]) torch.Size([100])\n",
      "torch.Size([100, 1, 28, 28]) torch.Size([100])\n"
     ]
    }
   ],
   "source": [
    "for i in test_loader:\n",
    "    print(i[0].shape,i[1].shape)"
   ]
  },
  {
   "cell_type": "code",
   "execution_count": 32,
   "id": "f1cd0232",
   "metadata": {
    "tags": []
   },
   "outputs": [
    {
     "name": "stdout",
     "output_type": "stream",
     "text": [
      "torch.Size([100, 1, 28, 28]) torch.Size([100])\n",
      "tensor([[[0.0000, 0.0000, 0.0000, 0.0000, 0.0000, 0.0000, 0.0000, 0.0000,\n",
      "          0.0000, 0.0000, 0.0000, 0.0000, 0.0000, 0.0000, 0.0000, 0.0000,\n",
      "          0.0000, 0.0000, 0.0000, 0.0000, 0.0000, 0.0000, 0.0000, 0.0000,\n",
      "          0.0000, 0.0000, 0.0000, 0.0000],\n",
      "         [0.0000, 0.0000, 0.0000, 0.0000, 0.0000, 0.0000, 0.0000, 0.0000,\n",
      "          0.0000, 0.0000, 0.0000, 0.0000, 0.0000, 0.0000, 0.0000, 0.0000,\n",
      "          0.0000, 0.0000, 0.0000, 0.0000, 0.0000, 0.0000, 0.0000, 0.0000,\n",
      "          0.0000, 0.0000, 0.0000, 0.0000],\n",
      "         [0.0000, 0.0000, 0.0000, 0.0000, 0.0000, 0.0000, 0.0000, 0.0000,\n",
      "          0.0000, 0.0000, 0.0000, 0.0000, 0.0000, 0.0000, 0.0000, 0.0000,\n",
      "          0.0000, 0.0000, 0.0000, 0.0000, 0.0000, 0.0000, 0.0000, 0.0000,\n",
      "          0.0000, 0.0000, 0.0000, 0.0000],\n",
      "         [0.0000, 0.0000, 0.0000, 0.0000, 0.0000, 0.0000, 0.0000, 0.0000,\n",
      "          0.0000, 0.0000, 0.0000, 0.0000, 0.0000, 0.0000, 0.0000, 0.0000,\n",
      "          0.0000, 0.0000, 0.0000, 0.0000, 0.0000, 0.0000, 0.0000, 0.0000,\n",
      "          0.0000, 0.0000, 0.0000, 0.0000],\n",
      "         [0.0000, 0.0000, 0.0000, 0.0000, 0.0000, 0.0000, 0.0000, 0.0000,\n",
      "          0.0000, 0.0000, 0.0000, 0.0000, 0.0000, 0.0000, 0.0000, 0.0000,\n",
      "          0.0000, 0.0000, 0.0000, 0.0000, 0.0000, 0.0000, 0.0000, 0.0000,\n",
      "          0.0000, 0.0000, 0.0000, 0.0000],\n",
      "         [0.0000, 0.0000, 0.0000, 0.0000, 0.0000, 0.0000, 0.0000, 0.0000,\n",
      "          0.0000, 0.0000, 0.0000, 0.1608, 0.0000, 0.0000, 0.0000, 0.0000,\n",
      "          0.0000, 0.0824, 0.7569, 0.1176, 0.0000, 0.0000, 0.0000, 0.0000,\n",
      "          0.0000, 0.0000, 0.0000, 0.0000],\n",
      "         [0.0000, 0.0000, 0.0000, 0.0000, 0.0000, 0.0000, 0.0000, 0.0000,\n",
      "          0.0000, 0.0000, 0.1608, 0.9529, 0.3216, 0.0000, 0.0000, 0.0000,\n",
      "          0.0000, 0.4000, 0.9922, 0.1961, 0.0000, 0.0000, 0.0000, 0.0000,\n",
      "          0.0000, 0.0000, 0.0000, 0.0000],\n",
      "         [0.0000, 0.0000, 0.0000, 0.0000, 0.0000, 0.0000, 0.0000, 0.0000,\n",
      "          0.0000, 0.0000, 0.5176, 0.9922, 0.1608, 0.0000, 0.0000, 0.0000,\n",
      "          0.0000, 0.4000, 0.9961, 0.1961, 0.0000, 0.0000, 0.0000, 0.0000,\n",
      "          0.0000, 0.0000, 0.0000, 0.0000],\n",
      "         [0.0000, 0.0000, 0.0000, 0.0000, 0.0000, 0.0000, 0.0000, 0.0000,\n",
      "          0.0000, 0.3216, 0.9922, 0.8314, 0.0000, 0.0000, 0.0000, 0.0000,\n",
      "          0.0000, 0.4000, 0.9922, 0.1961, 0.0000, 0.0000, 0.0000, 0.0000,\n",
      "          0.0000, 0.0000, 0.0000, 0.0000],\n",
      "         [0.0000, 0.0000, 0.0000, 0.0000, 0.0000, 0.0000, 0.0000, 0.0000,\n",
      "          0.0000, 0.4000, 0.9961, 0.3569, 0.0000, 0.0000, 0.0000, 0.0000,\n",
      "          0.0431, 0.8353, 0.9961, 0.1961, 0.0000, 0.0000, 0.0000, 0.0000,\n",
      "          0.0000, 0.0000, 0.0000, 0.0000],\n",
      "         [0.0000, 0.0000, 0.0000, 0.0000, 0.0000, 0.0000, 0.0000, 0.0000,\n",
      "          0.0000, 0.7176, 0.8353, 0.0392, 0.0000, 0.0000, 0.0000, 0.0000,\n",
      "          0.2000, 0.9882, 0.8353, 0.0392, 0.0000, 0.0000, 0.0000, 0.0000,\n",
      "          0.0000, 0.0000, 0.0000, 0.0000],\n",
      "         [0.0000, 0.0000, 0.0000, 0.0000, 0.0000, 0.0000, 0.0000, 0.0000,\n",
      "          0.4431, 0.9922, 0.7176, 0.0000, 0.0000, 0.0000, 0.0000, 0.0000,\n",
      "          0.2000, 0.9922, 0.7961, 0.1608, 0.0000, 0.0000, 0.0000, 0.0000,\n",
      "          0.0000, 0.0000, 0.0000, 0.0000],\n",
      "         [0.0000, 0.0000, 0.0000, 0.0000, 0.0000, 0.0000, 0.0000, 0.0000,\n",
      "          0.5961, 0.9882, 0.4000, 0.0000, 0.0000, 0.0000, 0.0000, 0.0000,\n",
      "          0.2000, 0.9882, 0.6353, 0.7961, 0.1608, 0.0000, 0.0000, 0.0000,\n",
      "          0.0000, 0.0000, 0.0000, 0.0000],\n",
      "         [0.0000, 0.0000, 0.0000, 0.0000, 0.0000, 0.0000, 0.0000, 0.0000,\n",
      "          0.8392, 0.7529, 0.0000, 0.0000, 0.0000, 0.1608, 0.2000, 0.2000,\n",
      "          0.5176, 0.9922, 0.9961, 0.9922, 0.1608, 0.0000, 0.0000, 0.0000,\n",
      "          0.0000, 0.0000, 0.0000, 0.0000],\n",
      "         [0.0000, 0.0000, 0.0000, 0.0000, 0.0000, 0.0000, 0.0000, 0.3216,\n",
      "          0.9922, 0.7529, 0.4000, 0.5569, 0.7961, 0.9529, 0.9922, 0.9882,\n",
      "          0.9922, 0.9882, 0.9137, 0.4353, 0.0000, 0.0000, 0.0000, 0.0000,\n",
      "          0.0000, 0.0000, 0.0000, 0.0000],\n",
      "         [0.0000, 0.0000, 0.0000, 0.0000, 0.0000, 0.0000, 0.0000, 0.3216,\n",
      "          0.9961, 0.9922, 0.9961, 0.9922, 0.9961, 0.9137, 0.7961, 0.4784,\n",
      "          0.9176, 0.9922, 0.0000, 0.0000, 0.0000, 0.0000, 0.0000, 0.0000,\n",
      "          0.0000, 0.0000, 0.0000, 0.0000],\n",
      "         [0.0000, 0.0000, 0.0000, 0.0000, 0.0000, 0.0000, 0.0000, 0.0000,\n",
      "          0.4392, 0.5922, 0.5137, 0.1961, 0.1961, 0.1176, 0.0000, 0.0000,\n",
      "          0.7569, 0.9882, 0.0000, 0.0000, 0.0000, 0.0000, 0.0000, 0.0000,\n",
      "          0.0000, 0.0000, 0.0000, 0.0000],\n",
      "         [0.0000, 0.0000, 0.0000, 0.0000, 0.0000, 0.0000, 0.0000, 0.0000,\n",
      "          0.0000, 0.0000, 0.0000, 0.0000, 0.0000, 0.0000, 0.0000, 0.0000,\n",
      "          0.5961, 0.9922, 0.0000, 0.0000, 0.0000, 0.0000, 0.0000, 0.0000,\n",
      "          0.0000, 0.0000, 0.0000, 0.0000],\n",
      "         [0.0000, 0.0000, 0.0000, 0.0000, 0.0000, 0.0000, 0.0000, 0.0000,\n",
      "          0.0000, 0.0000, 0.0000, 0.0000, 0.0000, 0.0000, 0.0000, 0.0000,\n",
      "          0.9137, 0.9882, 0.0000, 0.0000, 0.0000, 0.0000, 0.0000, 0.0000,\n",
      "          0.0000, 0.0000, 0.0000, 0.0000],\n",
      "         [0.0000, 0.0000, 0.0000, 0.0000, 0.0000, 0.0000, 0.0000, 0.0000,\n",
      "          0.0000, 0.0000, 0.0000, 0.0000, 0.0000, 0.0000, 0.0000, 0.0000,\n",
      "          0.9176, 0.9922, 0.0000, 0.0000, 0.0000, 0.0000, 0.0000, 0.0000,\n",
      "          0.0000, 0.0000, 0.0000, 0.0000],\n",
      "         [0.0000, 0.0000, 0.0000, 0.0000, 0.0000, 0.0000, 0.0000, 0.0000,\n",
      "          0.0000, 0.0000, 0.0000, 0.0000, 0.0000, 0.0000, 0.0000, 0.0000,\n",
      "          0.9137, 0.9882, 0.0000, 0.0000, 0.0000, 0.0000, 0.0000, 0.0000,\n",
      "          0.0000, 0.0000, 0.0000, 0.0000],\n",
      "         [0.0000, 0.0000, 0.0000, 0.0000, 0.0000, 0.0000, 0.0000, 0.0000,\n",
      "          0.0000, 0.0000, 0.0000, 0.0000, 0.0000, 0.0000, 0.0000, 0.0000,\n",
      "          1.0000, 0.9922, 0.0000, 0.0000, 0.0000, 0.0000, 0.0000, 0.0000,\n",
      "          0.0000, 0.0000, 0.0000, 0.0000],\n",
      "         [0.0000, 0.0000, 0.0000, 0.0000, 0.0000, 0.0000, 0.0000, 0.0000,\n",
      "          0.0000, 0.0000, 0.0000, 0.0000, 0.0000, 0.0000, 0.0000, 0.3216,\n",
      "          0.9922, 0.9882, 0.0000, 0.0000, 0.0000, 0.0000, 0.0000, 0.0000,\n",
      "          0.0000, 0.0000, 0.0000, 0.0000],\n",
      "         [0.0000, 0.0000, 0.0000, 0.0000, 0.0000, 0.0000, 0.0000, 0.0000,\n",
      "          0.0000, 0.0000, 0.0000, 0.0000, 0.0000, 0.0000, 0.0000, 0.4039,\n",
      "          1.0000, 0.9922, 0.4039, 0.0000, 0.0000, 0.0000, 0.0000, 0.0000,\n",
      "          0.0000, 0.0000, 0.0000, 0.0000],\n",
      "         [0.0000, 0.0000, 0.0000, 0.0000, 0.0000, 0.0000, 0.0000, 0.0000,\n",
      "          0.0000, 0.0000, 0.0000, 0.0000, 0.0000, 0.0000, 0.0000, 0.0784,\n",
      "          0.8353, 0.8314, 0.0784, 0.0000, 0.0000, 0.0000, 0.0000, 0.0000,\n",
      "          0.0000, 0.0000, 0.0000, 0.0000],\n",
      "         [0.0000, 0.0000, 0.0000, 0.0000, 0.0000, 0.0000, 0.0000, 0.0000,\n",
      "          0.0000, 0.0000, 0.0000, 0.0000, 0.0000, 0.0000, 0.0000, 0.0000,\n",
      "          0.0000, 0.0000, 0.0000, 0.0000, 0.0000, 0.0000, 0.0000, 0.0000,\n",
      "          0.0000, 0.0000, 0.0000, 0.0000],\n",
      "         [0.0000, 0.0000, 0.0000, 0.0000, 0.0000, 0.0000, 0.0000, 0.0000,\n",
      "          0.0000, 0.0000, 0.0000, 0.0000, 0.0000, 0.0000, 0.0000, 0.0000,\n",
      "          0.0000, 0.0000, 0.0000, 0.0000, 0.0000, 0.0000, 0.0000, 0.0000,\n",
      "          0.0000, 0.0000, 0.0000, 0.0000],\n",
      "         [0.0000, 0.0000, 0.0000, 0.0000, 0.0000, 0.0000, 0.0000, 0.0000,\n",
      "          0.0000, 0.0000, 0.0000, 0.0000, 0.0000, 0.0000, 0.0000, 0.0000,\n",
      "          0.0000, 0.0000, 0.0000, 0.0000, 0.0000, 0.0000, 0.0000, 0.0000,\n",
      "          0.0000, 0.0000, 0.0000, 0.0000]]])\n"
     ]
    }
   ],
   "source": [
    "# test and have look of 1 batch of data\n",
    "examples = iter(train_loader)\n",
    "samples, labels = next(examples)\n",
    "print(samples.shape, labels.shape)\n",
    "print(samples[0])"
   ]
  },
  {
   "cell_type": "code",
   "execution_count": 33,
   "id": "22ac4563",
   "metadata": {
    "tags": []
   },
   "outputs": [
    {
     "data": {
      "image/png": "[encoded data removed]",
      "text/plain": [
       "<Figure size 640x480 with 6 Axes>"
      ]
     },
     "metadata": {},
     "output_type": "display_data"
    }
   ],
   "source": [
    "# plot some samples\n",
    "for i in range(6):\n",
    "    plt.subplot(2, 3, i+1)\n",
    "    plt.imshow(samples[i][0], cmap='gray')\n",
    "plt.show()"
   ]
  },
  {
   "cell_type": "markdown",
   "id": "9ded851e-2e00-42bb-aed5-2c370104ea12",
   "metadata": {},
   "source": [
    "# 1. RNN Model"
   ]
  },
  {
   "cell_type": "code",
   "execution_count": 34,
   "id": "4379f0aa",
   "metadata": {
    "tags": []
   },
   "outputs": [],
   "source": [
    "class RNN(nn.Module):\n",
    "    def __init__(self, input_size, hidden_size, n_layers, n_classes):\n",
    "        super(RNN, self).__init__()\n",
    "        self.n_layers = n_layers\n",
    "        self.hidden_size = hidden_size\n",
    "        \n",
    "        # batch_first indicates that the batch should be first dimention\n",
    "        # input_shape = (batch_size, sequence_size, input_size)\n",
    "        self.rnn = nn.RNN(input_size, hidden_size, n_layers, batch_first=True)\n",
    "        self.fc = nn.Linear(hidden_size, n_classes)\n",
    "        \n",
    "    def forward(self, inputs):\n",
    "        # 2 inputs are required in the befinning -> 1) initial hidden state, 2) input\n",
    "        # inputs.size(0) presents batch size\n",
    "        h0 = torch.zeros(self.n_layers, inputs.size(0), self.hidden_size).to(device)\n",
    "        \n",
    "        # deliver 2 outputs -> 1) output of all the steps, 2) h_n for the step n\n",
    "        # we require output only\n",
    "        # output = (batch_size, sequence_size, hidden_size) = (N, 28, 128)\n",
    "        output, _ = self.rnn(inputs, h0)\n",
    "        \n",
    "        # we require (batch_size, hidden_size) = (N, 128)\n",
    "        output = output[:, -1, :]\n",
    "        output = self.fc(output)\n",
    "        \n",
    "        return output\n",
    "        "
   ]
  },
  {
   "cell_type": "code",
   "execution_count": 35,
   "id": "c56a8a4b",
   "metadata": {
    "tags": []
   },
   "outputs": [],
   "source": [
    "model = RNN(input_size, hidden_size, n_layers, n_classes)"
   ]
  },
  {
   "cell_type": "code",
   "execution_count": 36,
   "id": "d2f0f607",
   "metadata": {
    "tags": []
   },
   "outputs": [],
   "source": [
    "# loss and optimizer\n",
    "criterion =  nn.CrossEntropyLoss() # nn.CrossEntropyLoss() automaticsally applies Softmax\n",
    "optimizer = torch.optim.Adam(model.parameters(), lr=l_rate)"
   ]
  },
  {
   "cell_type": "code",
   "execution_count": 37,
   "id": "f6fde11b",
   "metadata": {
    "tags": []
   },
   "outputs": [
    {
     "name": "stdout",
     "output_type": "stream",
     "text": [
      "epoch 1 / 2, step 100 / 600, loss = 1.0533\n",
      "epoch 1 / 2, step 200 / 600, loss = 0.7983\n",
      "epoch 1 / 2, step 300 / 600, loss = 0.5220\n",
      "epoch 1 / 2, step 400 / 600, loss = 0.5440\n",
      "epoch 1 / 2, step 500 / 600, loss = 0.3396\n",
      "epoch 1 / 2, step 600 / 600, loss = 0.5086\n",
      "epoch 2 / 2, step 100 / 600, loss = 0.5925\n",
      "epoch 2 / 2, step 200 / 600, loss = 0.4452\n",
      "epoch 2 / 2, step 300 / 600, loss = 0.1920\n",
      "epoch 2 / 2, step 400 / 600, loss = 0.4130\n",
      "epoch 2 / 2, step 500 / 600, loss = 0.4564\n",
      "epoch 2 / 2, step 600 / 600, loss = 0.3406\n"
     ]
    }
   ],
   "source": [
    "# training loop\n",
    "n_steps = len(train_loader)\n",
    "for epoch in range(n_epochs):\n",
    "    for i, (images, labels) in enumerate(train_loader):\n",
    "        # origin shape -> 100, 1, 28, 28\n",
    "        # required shape -> 100, 28, 28\n",
    "        images = images.reshape(-1, sequence_size, input_size).to(device)\n",
    "        labels = labels.to(device)\n",
    "        \n",
    "        # forward pass\n",
    "        out = model(images)\n",
    "        loss = criterion(out, labels)\n",
    "        \n",
    "        # backward pass\n",
    "        optimizer.zero_grad()\n",
    "        loss.backward()\n",
    "        optimizer.step()\n",
    "        \n",
    "        if (i+1) % 100 == 0:\n",
    "            print(f'epoch {epoch+1} / {n_epochs}, step {i+1} / {n_steps}, loss = {loss.item():.4f}')"
   ]
  },
  {
   "cell_type": "code",
   "execution_count": 38,
   "id": "7182edbe",
   "metadata": {
    "tags": []
   },
   "outputs": [
    {
     "name": "stdout",
     "output_type": "stream",
     "text": [
      "accuracy = 91.99\n"
     ]
    }
   ],
   "source": [
    "# testing model\n",
    "with torch.no_grad():\n",
    "    n_correct = 0\n",
    "    n_samples = 0\n",
    "    for images, labels in test_loader:\n",
    "        # origin shape -> 100, 1, 28, 28\n",
    "        # required shape -> 100, 28, 28\n",
    "        images = images.reshape(-1, sequence_size, input_size).to(device)\n",
    "        labels = labels.to(device)\n",
    "        \n",
    "        out = model(images)\n",
    "        \n",
    "        # value, index\n",
    "        _, predictions = torch.max(out, 1)\n",
    "        n_samples += labels.shape[0]\n",
    "        n_correct += (predictions == labels).sum().item()\n",
    "        \n",
    "    accuracy = 100.0 * n_correct / n_samples\n",
    "    print(f'accuracy = {accuracy}')"
   ]
  },
  {
   "cell_type": "markdown",
   "id": "d1f82eec-906e-45b5-8ddd-adfa8a3f08d6",
   "metadata": {
    "tags": []
   },
   "source": [
    "# 2. GRU Model\n",
    "### Code is same as RNN\n",
    "### Inputs paramters are same"
   ]
  },
  {
   "cell_type": "code",
   "execution_count": 39,
   "id": "688800c8-e592-45a5-94ea-d400f856b658",
   "metadata": {
    "tags": []
   },
   "outputs": [],
   "source": [
    "class GRU(nn.Module):\n",
    "    def __init__(self, input_size, hidden_size, n_layers, n_classes):\n",
    "        super(GRU, self).__init__()\n",
    "        self.n_layers = n_layers\n",
    "        self.hidden_size = hidden_size\n",
    "        \n",
    "        # batch_first indicates that the batch should be first dimention\n",
    "        # input_shape = (batch_size, sequence_size, input_size)\n",
    "        self.gru = nn.GRU(input_size, hidden_size, n_layers, batch_first=True)\n",
    "        self.fc = nn.Linear(hidden_size, n_classes)\n",
    "        \n",
    "    def forward(self, inputs):\n",
    "        # 2 inputs are required in the befinning -> 1) initial hidden state, 2) input\n",
    "        # inputs.size(0) presents batch size\n",
    "        h0 = torch.zeros(self.n_layers, inputs.size(0), self.hidden_size).to(device)\n",
    "        \n",
    "        # deliver 2 outputs -> 1) output of all the steps, 2) h_n for the step n\n",
    "        # we require output only\n",
    "        # output = (batch_size, sequence_size, hidden_size) = (N, 28, 128)\n",
    "        output, _ = self.gru(inputs, h0)\n",
    "        \n",
    "        # we require (batch_size, hidden_size) = (N, 128)\n",
    "        output = output[:, -1, :]\n",
    "        output = self.fc(output)\n",
    "        \n",
    "        return output\n",
    "        "
   ]
  },
  {
   "cell_type": "code",
   "execution_count": 40,
   "id": "a9783e99-4f67-4a17-a0ab-bbc2f1317fa7",
   "metadata": {
    "tags": []
   },
   "outputs": [],
   "source": [
    "model = GRU(input_size, hidden_size, n_layers, n_classes)"
   ]
  },
  {
   "cell_type": "code",
   "execution_count": 41,
   "id": "8a2434e4-3309-4037-8a25-9e339f721fd6",
   "metadata": {
    "tags": []
   },
   "outputs": [],
   "source": [
    "# loss and optimizer\n",
    "criterion =  nn.CrossEntropyLoss() # nn.CrossEntropyLoss() automaticsally applies Softmax\n",
    "optimizer = torch.optim.Adam(model.parameters(), lr=l_rate)"
   ]
  },
  {
   "cell_type": "code",
   "execution_count": 42,
   "id": "9c78efdb-3846-4301-8c54-ef4082174fc9",
   "metadata": {
    "tags": []
   },
   "outputs": [
    {
     "name": "stdout",
     "output_type": "stream",
     "text": [
      "epoch 1 / 2, step 100 / 600, loss = 0.6384\n",
      "epoch 1 / 2, step 200 / 600, loss = 0.3792\n",
      "epoch 1 / 2, step 300 / 600, loss = 0.2611\n",
      "epoch 1 / 2, step 400 / 600, loss = 0.1157\n",
      "epoch 1 / 2, step 500 / 600, loss = 0.1610\n",
      "epoch 1 / 2, step 600 / 600, loss = 0.1392\n",
      "epoch 2 / 2, step 100 / 600, loss = 0.0897\n",
      "epoch 2 / 2, step 200 / 600, loss = 0.0600\n",
      "epoch 2 / 2, step 300 / 600, loss = 0.1132\n",
      "epoch 2 / 2, step 400 / 600, loss = 0.2805\n",
      "epoch 2 / 2, step 500 / 600, loss = 0.1234\n",
      "epoch 2 / 2, step 600 / 600, loss = 0.1496\n"
     ]
    }
   ],
   "source": [
    "# training loop\n",
    "n_steps = len(train_loader)\n",
    "for epoch in range(n_epochs):\n",
    "    for i, (images, labels) in enumerate(train_loader):\n",
    "        # origin shape -> 100, 1, 28, 28\n",
    "        # required shape -> 100, 28, 28\n",
    "        images = images.reshape(-1, sequence_size, input_size).to(device)\n",
    "        labels = labels.to(device)\n",
    "        \n",
    "        # forward pass\n",
    "        out = model(images)\n",
    "        loss = criterion(out, labels)\n",
    "        \n",
    "        # backward pass\n",
    "        optimizer.zero_grad()\n",
    "        loss.backward()\n",
    "        optimizer.step()\n",
    "        \n",
    "        if (i+1) % 100 == 0:\n",
    "            print(f'epoch {epoch+1} / {n_epochs}, step {i+1} / {n_steps}, loss = {loss.item():.4f}')"
   ]
  },
  {
   "cell_type": "code",
   "execution_count": 43,
   "id": "2c9bf14a-6abc-483e-88dd-6d0ba86431b7",
   "metadata": {
    "tags": []
   },
   "outputs": [
    {
     "name": "stdout",
     "output_type": "stream",
     "text": [
      "accuracy = 97.29\n"
     ]
    }
   ],
   "source": [
    "# testing model\n",
    "with torch.no_grad():\n",
    "    n_correct = 0\n",
    "    n_samples = 0\n",
    "    for images, labels in test_loader:\n",
    "        # origin shape -> 100, 1, 28, 28\n",
    "        # required shape -> 100, 28, 28\n",
    "        images = images.reshape(-1, sequence_size, input_size).to(device)\n",
    "        labels = labels.to(device)\n",
    "        \n",
    "        out = model(images)\n",
    "        \n",
    "        # value, index\n",
    "        _, predictions = torch.max(out, 1)\n",
    "        n_samples += labels.shape[0]\n",
    "        n_correct += (predictions == labels).sum().item()\n",
    "        \n",
    "    accuracy = 100.0 * n_correct / n_samples\n",
    "    print(f'accuracy = {accuracy}')"
   ]
  },
  {
   "cell_type": "markdown",
   "id": "f9d9cde7-9139-4dbb-b7c0-4bffbea6324b",
   "metadata": {
    "tags": []
   },
   "source": [
    "# 3. LSTM Model\n",
    "### Code is same as RNN or GRU\n",
    "### The only difference: Require an initial Cell state (c0)\n",
    "### Input paramters are still same"
   ]
  },
  {
   "cell_type": "code",
   "execution_count": 44,
   "id": "5e4c3261-fcfc-4f58-a0df-201050375473",
   "metadata": {
    "tags": []
   },
   "outputs": [],
   "source": [
    "class LSTM(nn.Module):\n",
    "    def __init__(self, input_size, hidden_size, n_layers, n_classes):\n",
    "        super(LSTM, self).__init__()\n",
    "        self.n_layers = n_layers\n",
    "        self.hidden_size = hidden_size\n",
    "        \n",
    "        # batch_first indicates that the batch should be first dimention\n",
    "        # input_shape = (batch_size, sequence_size, input_size)\n",
    "        self.lstm = nn.LSTM(input_size, hidden_size, n_layers, batch_first=True)\n",
    "        self.fc = nn.Linear(hidden_size, n_classes)\n",
    "        \n",
    "    def forward(self, inputs):\n",
    "        # 2 inputs are required in the befinning -> 1) initial hidden state, 2) input\n",
    "        # inputs.size(0) presents batch size\n",
    "        h0 = torch.zeros(self.n_layers, inputs.size(0), self.hidden_size).to(device)\n",
    "        \n",
    "        # initial tensor for initial Cell state\n",
    "        c0 = torch.zeros(self.n_layers, inputs.size(0), self.hidden_size).to(device)\n",
    "        \n",
    "        # deliver 2 outputs -> 1) output of all the steps, 2) h_n for the step n\n",
    "        # we require output only\n",
    "        # output = (batch_size, sequence_size, hidden_size) = (N, 28, 128)\n",
    "        output, _ = self.lstm(inputs, (h0, c0))\n",
    "        \n",
    "        # we require (batch_size, hidden_size) = (N, 128)\n",
    "        output = output[:, -1, :]\n",
    "        output = self.fc(output)\n",
    "        \n",
    "        return output\n",
    "        "
   ]
  },
  {
   "cell_type": "code",
   "execution_count": 45,
   "id": "92361cf1-3e86-48dc-a923-18bd21917e25",
   "metadata": {
    "tags": []
   },
   "outputs": [],
   "source": [
    "model = LSTM(input_size, hidden_size, n_layers, n_classes)"
   ]
  },
  {
   "cell_type": "code",
   "execution_count": 46,
   "id": "0eb01bf0-5c48-4cfb-9c1f-0f85eb0e9184",
   "metadata": {
    "tags": []
   },
   "outputs": [],
   "source": [
    "# loss and optimizer\n",
    "criterion =  nn.CrossEntropyLoss() # nn.CrossEntropyLoss() automaticsally applies Softmax\n",
    "optimizer = torch.optim.Adam(model.parameters(), lr=l_rate)"
   ]
  },
  {
   "cell_type": "code",
   "execution_count": 47,
   "id": "097cb6dc-9165-4d8f-99bf-b6403a28e68e",
   "metadata": {
    "tags": []
   },
   "outputs": [
    {
     "name": "stdout",
     "output_type": "stream",
     "text": [
      "epoch 1 / 2, step 100 / 600, loss = 0.6825\n",
      "epoch 1 / 2, step 200 / 600, loss = 0.4827\n",
      "epoch 1 / 2, step 300 / 600, loss = 0.2832\n",
      "epoch 1 / 2, step 400 / 600, loss = 0.2277\n",
      "epoch 1 / 2, step 500 / 600, loss = 0.2124\n",
      "epoch 1 / 2, step 600 / 600, loss = 0.1907\n",
      "epoch 2 / 2, step 100 / 600, loss = 0.1045\n",
      "epoch 2 / 2, step 200 / 600, loss = 0.1406\n",
      "epoch 2 / 2, step 300 / 600, loss = 0.1437\n",
      "epoch 2 / 2, step 400 / 600, loss = 0.1081\n",
      "epoch 2 / 2, step 500 / 600, loss = 0.1270\n",
      "epoch 2 / 2, step 600 / 600, loss = 0.0599\n"
     ]
    }
   ],
   "source": [
    "# training loop\n",
    "n_steps = len(train_loader)\n",
    "for epoch in range(n_epochs):\n",
    "    for i, (images, labels) in enumerate(train_loader):\n",
    "        # origin shape -> 100, 1, 28, 28\n",
    "        # required shape -> 100, 28, 28\n",
    "        images = images.reshape(-1, sequence_size, input_size).to(device)\n",
    "        labels = labels.to(device)\n",
    "        \n",
    "        # forward pass\n",
    "        out = model(images)\n",
    "        loss = criterion(out, labels)\n",
    "        \n",
    "        # backward pass\n",
    "        optimizer.zero_grad()\n",
    "        loss.backward()\n",
    "        optimizer.step()\n",
    "        \n",
    "        if (i+1) % 100 == 0:\n",
    "            print(f'epoch {epoch+1} / {n_epochs}, step {i+1} / {n_steps}, loss = {loss.item():.4f}')"
   ]
  },
  {
   "cell_type": "code",
   "execution_count": 48,
   "id": "982d0577-4484-4157-b04f-218d940fb5c3",
   "metadata": {
    "tags": []
   },
   "outputs": [
    {
     "name": "stdout",
     "output_type": "stream",
     "text": [
      "accuracy = 97.04\n"
     ]
    }
   ],
   "source": [
    "# testing model\n",
    "with torch.no_grad():\n",
    "    n_correct = 0\n",
    "    n_samples = 0\n",
    "    for images, labels in test_loader:\n",
    "        # origin shape -> 100, 1, 28, 28\n",
    "        # required shape -> 100, 28, 28\n",
    "        images = images.reshape(-1, sequence_size, input_size).to(device)\n",
    "        labels = labels.to(device)\n",
    "        \n",
    "        out = model(images)\n",
    "        \n",
    "        # value, index\n",
    "        _, predictions = torch.max(out, 1)\n",
    "        n_samples += labels.shape[0]\n",
    "        n_correct += (predictions == labels).sum().item()\n",
    "        \n",
    "    accuracy = 100.0 * n_correct / n_samples\n",
    "    print(f'accuracy = {accuracy}')"
   ]
  },
  {
   "cell_type": "code",
   "execution_count": null,
   "id": "96444583-ecf2-4396-b33e-d736eb7fbe39",
   "metadata": {},
   "outputs": [],
   "source": []
  }
 ],
 "metadata": {
  "kernelspec": {
   "display_name": "pytorch",
   "language": "python",
   "name": "pytorch"
  },
  "language_info": {
   "codemirror_mode": {
    "name": "ipython",
    "version": 3
   },
   "file_extension": ".py",
   "mimetype": "text/x-python",
   "name": "python",
   "nbconvert_exporter": "python",
   "pygments_lexer": "ipython3",
   "version": "3.9.16"
  }
 },
 "nbformat": 4,
 "nbformat_minor": 5
}
