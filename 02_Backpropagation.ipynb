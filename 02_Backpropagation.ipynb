{
 "cells": [
  {
   "cell_type": "code",
   "execution_count": 5,
   "id": "6c58f5a5",
   "metadata": {},
   "outputs": [],
   "source": [
    "import torch"
   ]
  },
  {
   "cell_type": "markdown",
   "id": "d3784747",
   "metadata": {},
   "source": [
    "# Three Steps Involves in Computing Loss and Backpropagation\n",
    "## 1) Forward Pass (Compute loss)\n",
    "## 2) Compute Local Gradients\n",
    "## 3) Backward Pass Using Chain Rule (dLoss/dWeights)\n",
    "### Concrete example of backpropagation where x=1, y=2, and w=1"
   ]
  },
  {
   "cell_type": "markdown",
   "id": "6cd21351",
   "metadata": {},
   "source": [
    "x = torch.tensor(1.0)\n",
    "y = torch.tensor(2.0)\n",
    "w = torch.tensor(1.0, requires_grad=True)"
   ]
  },
  {
   "cell_type": "code",
   "execution_count": 6,
   "id": "422b1464",
   "metadata": {},
   "outputs": [
    {
     "ename": "NameError",
     "evalue": "name 'w' is not defined",
     "output_type": "error",
     "traceback": [
      "\u001b[1;31m---------------------------------------------------------------------------\u001b[0m",
      "\u001b[1;31mNameError\u001b[0m                                 Traceback (most recent call last)",
      "Cell \u001b[1;32mIn[6], line 2\u001b[0m\n\u001b[0;32m      1\u001b[0m \u001b[38;5;66;03m# forward pass (compute loss)\u001b[39;00m\n\u001b[1;32m----> 2\u001b[0m y_hat \u001b[38;5;241m=\u001b[39m \u001b[43mw\u001b[49m \u001b[38;5;241m*\u001b[39m x\n\u001b[0;32m      3\u001b[0m loss \u001b[38;5;241m=\u001b[39m (y_hat \u001b[38;5;241m-\u001b[39m y)\u001b[38;5;241m*\u001b[39m\u001b[38;5;241m*\u001b[39m\u001b[38;5;241m2\u001b[39m\n\u001b[0;32m      4\u001b[0m \u001b[38;5;28mprint\u001b[39m(loss)\n",
      "\u001b[1;31mNameError\u001b[0m: name 'w' is not defined"
     ]
    }
   ],
   "source": [
    "# forward pass (compute loss)\n",
    "y_hat = w * x\n",
    "loss = (y_hat - y)**2\n",
    "print(loss)"
   ]
  },
  {
   "cell_type": "code",
   "execution_count": null,
   "id": "77eec03b",
   "metadata": {},
   "outputs": [],
   "source": [
    "# compute local gradients automatically along with backward pass\n",
    "loss.backward()\n",
    "print(w.grad)"
   ]
  },
  {
   "cell_type": "code",
   "execution_count": null,
   "id": "94ffe02a",
   "metadata": {},
   "outputs": [],
   "source": [
    "# update weights\n",
    "# next forward and backward pass"
   ]
  },
  {
   "cell_type": "code",
   "execution_count": null,
   "id": "3149d0d0",
   "metadata": {},
   "outputs": [],
   "source": []
  }
 ],
 "metadata": {
  "kernelspec": {
   "display_name": "pytorch",
   "language": "python",
   "name": "pytorch"
  },
  "language_info": {
   "codemirror_mode": {
    "name": "ipython",
    "version": 3
   },
   "file_extension": ".py",
   "mimetype": "text/x-python",
   "name": "python",
   "nbconvert_exporter": "python",
   "pygments_lexer": "ipython3",
   "version": "3.9.16"
  }
 },
 "nbformat": 4,
 "nbformat_minor": 5
}
