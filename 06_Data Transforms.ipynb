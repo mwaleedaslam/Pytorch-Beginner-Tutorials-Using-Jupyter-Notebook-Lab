{
 "cells": [
  {
   "cell_type": "markdown",
   "id": "1389b7e5",
   "metadata": {},
   "source": [
    "# Pass Transform on Builtin Dataset"
   ]
  },
  {
   "cell_type": "code",
   "execution_count": 111,
   "id": "1315cb2a",
   "metadata": {},
   "outputs": [],
   "source": [
    "import numpy as np\n",
    "import torch\n",
    "import torchvision\n",
    "from torch.utils.data import Dataset"
   ]
  },
  {
   "cell_type": "markdown",
   "id": "799a3270",
   "metadata": {},
   "source": [
    "### Example: Transforming MNIST dataset to Tensor"
   ]
  },
  {
   "cell_type": "code",
   "execution_count": 112,
   "id": "f865bc79",
   "metadata": {},
   "outputs": [],
   "source": [
    "# data_set = torchvision.datasets.MNIST(root='./data', transform=torchvision.transforms.ToTensor())"
   ]
  },
  {
   "cell_type": "code",
   "execution_count": 113,
   "id": "060a6982",
   "metadata": {},
   "outputs": [
    {
     "data": {
      "text/plain": [
       "'\\nTransforms can be applied to PIL images, tensors, ndarrays, or custom data during creation of the DataSet\\n\\ncomplete list of built-in transforms: \\nhttps://pytorch.org/docs/stable/torchvision/transforms.html\\n\\n- On Images\\n---------\\nCenterCrop, Grayscale, Pad, RandomAffine\\nRandomCrop, RandomHorizontalFlip, RandomRotation\\nResize, Scale\\n\\n- On Tensors\\n----------\\nLinearTransformation, Normalize, RandomErasing\\n\\n- Conversion\\n----------\\nToPILImage: from tensor or ndrarray\\nToTensor : from numpy.ndarray or PILImage\\n\\n- Generic\\n-------\\nUse Lambda \\n\\n- Custom\\n------\\nWrite own class\\n\\n- Compose multiple Transforms\\n---------------------------\\ncomposed = transforms.Compose([Rescale(256),\\n                               RandomCrop(224)])\\n'"
      ]
     },
     "execution_count": 113,
     "metadata": {},
     "output_type": "execute_result"
    }
   ],
   "source": [
    "'''\n",
    "Transforms can be applied to PIL images, tensors, ndarrays, or custom data during creation of the DataSet\n",
    "\n",
    "complete list of built-in transforms: \n",
    "https://pytorch.org/docs/stable/torchvision/transforms.html\n",
    "\n",
    "- On Images\n",
    "---------\n",
    "CenterCrop, Grayscale, Pad, RandomAffine\n",
    "RandomCrop, RandomHorizontalFlip, RandomRotation\n",
    "Resize, Scale\n",
    "\n",
    "- On Tensors\n",
    "----------\n",
    "LinearTransformation, Normalize, RandomErasing\n",
    "\n",
    "- Conversion\n",
    "----------\n",
    "ToPILImage: from tensor or ndrarray\n",
    "ToTensor : from numpy.ndarray or PILImage\n",
    "\n",
    "- Generic\n",
    "-------\n",
    "Use Lambda \n",
    "\n",
    "- Custom\n",
    "------\n",
    "Write own class\n",
    "\n",
    "- Compose multiple Transforms\n",
    "---------------------------\n",
    "composed = transforms.Compose([Rescale(256),\n",
    "                               RandomCrop(224)])\n",
    "'''"
   ]
  },
  {
   "cell_type": "markdown",
   "id": "35fd0446",
   "metadata": {},
   "source": [
    "### Example: Transforming Custom dataset  and writing our own transforms classes"
   ]
  },
  {
   "cell_type": "code",
   "execution_count": 114,
   "id": "9b8a6592",
   "metadata": {},
   "outputs": [],
   "source": [
    "class WineDataset(Dataset):\n",
    "    def __init__(self, transform=None):\n",
    "        # load data\n",
    "        xy = np.loadtxt('./data/wine.csv', delimiter=',', dtype=np.float32, skiprows=1)\n",
    "        \n",
    "        # numpy data\n",
    "        self.x = xy[:, 1:]\n",
    "        self.y = xy[:, [0]] # n_samples, 1\n",
    "        self.transform = transform\n",
    "        \n",
    "    def __getitem__(self, index):\n",
    "        # indexing of dataset e.g. dataset[0]\n",
    "        instance = self.x[index], self.y[index]\n",
    "        \n",
    "        # checking if trnasorm is not equal to None\n",
    "        if self.transform:\n",
    "            instance = self.transform(instance)\n",
    "            \n",
    "        return instance\n",
    "        \n",
    "    def __len__(self):\n",
    "        # length of dataset\n",
    "        return self.n_samples"
   ]
  },
  {
   "cell_type": "markdown",
   "id": "db24d64d",
   "metadata": {},
   "source": [
    "# Class for Transforming From Numpy to Tensor "
   ]
  },
  {
   "cell_type": "code",
   "execution_count": 115,
   "id": "cb196ba3",
   "metadata": {},
   "outputs": [],
   "source": [
    "class ToTensor:\n",
    "    def __call__(self, instance):\n",
    "        inputs, outputs = instance\n",
    "        return torch.from_numpy(inputs), torch.from_numpy(outputs)"
   ]
  },
  {
   "cell_type": "code",
   "execution_count": 116,
   "id": "73507fc2",
   "metadata": {},
   "outputs": [
    {
     "name": "stdout",
     "output_type": "stream",
     "text": [
      "<class 'torch.Tensor'> <class 'torch.Tensor'>\n"
     ]
    }
   ],
   "source": [
    "# check if everything is working fine\n",
    "dataset = WineDataset(transform=ToTensor())\n",
    "first_instance = dataset[0]\n",
    "f, l = first_instance # extract tensor x=l as features and tensor y=l as labels\n",
    "print(type(f), type(l))"
   ]
  },
  {
   "cell_type": "markdown",
   "id": "185fd779",
   "metadata": {},
   "source": [
    "# Apply Sum Transform"
   ]
  },
  {
   "cell_type": "code",
   "execution_count": 117,
   "id": "1a07fd48",
   "metadata": {},
   "outputs": [],
   "source": [
    "class SumTransform:\n",
    "    def __init__(self, plus):\n",
    "        self.plus = plus\n",
    "        \n",
    "    def __call__(self, instance):\n",
    "        inputs, outputs = instance\n",
    "        inputs += self.plus\n",
    "        return inputs, outputs"
   ]
  },
  {
   "cell_type": "code",
   "execution_count": 118,
   "id": "d0f2e456",
   "metadata": {},
   "outputs": [
    {
     "name": "stdout",
     "output_type": "stream",
     "text": [
      "[1.423e+01 1.710e+00 2.430e+00 1.560e+01 1.270e+02 2.800e+00 3.060e+00\n",
      " 2.800e-01 2.290e+00 5.640e+00 1.040e+00 3.920e+00 1.065e+03]\n",
      "<class 'numpy.ndarray'> <class 'numpy.ndarray'>\n",
      "tensor([  24.2300,   11.7100,   12.4300,   25.6000,  137.0000,   12.8000,\n",
      "          13.0600,   10.2800,   12.2900,   15.6400,   11.0400,   13.9200,\n",
      "        1075.0000])\n",
      "<class 'torch.Tensor'> <class 'torch.Tensor'>\n"
     ]
    }
   ],
   "source": [
    "# check if everything is working fine\n",
    "data = WineDataset(transform=None)\n",
    "first_instance = data[0]\n",
    "f, l = first_instance # extract tensor x=l as features and tensor y=l as labels\n",
    "print(f)\n",
    "print(type(f), type(l))\n",
    "\n",
    "# tensor and sum transform\n",
    "trans = torchvision.transforms.Compose([ToTensor(), SumTransform(10)])\n",
    "data = WineDataset(transform=trans)\n",
    "first_instance = data[0]\n",
    "f, l = first_instance # extract tensor x=l as features and tensor y=l as labels\n",
    "print(f)\n",
    "print(type(f), type(l))"
   ]
  },
  {
   "cell_type": "code",
   "execution_count": null,
   "id": "81126666",
   "metadata": {},
   "outputs": [],
   "source": []
  }
 ],
 "metadata": {
  "kernelspec": {
   "display_name": "pytorch",
   "language": "python",
   "name": "pytorch"
  },
  "language_info": {
   "codemirror_mode": {
    "name": "ipython",
    "version": 3
   },
   "file_extension": ".py",
   "mimetype": "text/x-python",
   "name": "python",
   "nbconvert_exporter": "python",
   "pygments_lexer": "ipython3",
   "version": "3.9.16"
  }
 },
 "nbformat": 4,
 "nbformat_minor": 5
}
