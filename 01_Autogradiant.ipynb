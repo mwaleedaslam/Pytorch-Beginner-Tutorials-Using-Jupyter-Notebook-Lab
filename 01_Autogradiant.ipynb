{
 "cells": [
  {
   "cell_type": "code",
   "execution_count": 1,
   "id": "90554ecf",
   "metadata": {},
   "outputs": [],
   "source": [
    "import torch"
   ]
  },
  {
   "cell_type": "markdown",
   "id": "1a07ff1e",
   "metadata": {},
   "source": [
    "# Autograd Function to Compute Gradient Automatically\n",
    "### Gradient is essential to optimize models\n",
    "### The following example shows the gradient of some function w.r.t. x"
   ]
  },
  {
   "cell_type": "code",
   "execution_count": 15,
   "id": "4ec7c2df",
   "metadata": {},
   "outputs": [
    {
     "name": "stdout",
     "output_type": "stream",
     "text": [
      "tensor([ 0.7692, -1.1365,  1.8479], requires_grad=True)\n",
      "tensor([2.7692, 0.8635, 3.8479], grad_fn=<AddBackward0>)\n",
      "tensor([15.3373,  1.4911, 29.6128], grad_fn=<MulBackward0>)\n",
      "tensor(15.4804, grad_fn=<MeanBackward0>)\n"
     ]
    },
    {
     "data": {
      "text/plain": [
       "tensor([3.6923, 1.1513, 5.1305])"
      ]
     },
     "execution_count": 15,
     "metadata": {},
     "output_type": "execute_result"
    }
   ],
   "source": [
    "x = torch.randn(3, requires_grad=True)\n",
    "print(x)\n",
    "y = x + 2\n",
    "print(y)\n",
    "z = y * y * 2\n",
    "print(z)\n",
    "z = z.mean()\n",
    "print(z)\n",
    "# z has a single mean scaler value that's why no need to pass a vector in Backward function\n",
    "z.backward() # dz/dx\n",
    "x.grad"
   ]
  },
  {
   "cell_type": "code",
   "execution_count": 18,
   "id": "cc74c9e4",
   "metadata": {},
   "outputs": [
    {
     "name": "stdout",
     "output_type": "stream",
     "text": [
      "tensor([ 0.5056, -0.3569, -1.5549], requires_grad=True)\n",
      "tensor([2.5056, 1.6431, 0.4451], grad_fn=<AddBackward0>)\n",
      "tensor([12.5559,  5.3996,  0.3963], grad_fn=<MulBackward0>)\n",
      "tensor([0.1000, 1.0000, 0.0010])\n",
      "tensor([ 0.5056, -0.3569, -1.5549])\n"
     ]
    }
   ],
   "source": [
    "x = torch.randn(3, requires_grad=True)\n",
    "print(x)\n",
    "y = x + 2\n",
    "print(y)\n",
    "z = y * y * 2\n",
    "print(z)\n",
    "v = torch.tensor([0.1, 1.0, 0.001], dtype=torch.float32)\n",
    "print(v)\n",
    "# z has multiple (not a scaler) values that's why need to pass a vector in Backward function\n",
    "z.backward(v) # dz/dx\n",
    "x.grad\n",
    "x = x.requires_grad_(False)\n",
    "print(x)"
   ]
  },
  {
   "cell_type": "code",
   "execution_count": null,
   "id": "e356bde7",
   "metadata": {},
   "outputs": [],
   "source": []
  }
 ],
 "metadata": {
  "kernelspec": {
   "display_name": "pytorch",
   "language": "python",
   "name": "pytorch"
  },
  "language_info": {
   "codemirror_mode": {
    "name": "ipython",
    "version": 3
   },
   "file_extension": ".py",
   "mimetype": "text/x-python",
   "name": "python",
   "nbconvert_exporter": "python",
   "pygments_lexer": "ipython3",
   "version": "3.9.16"
  }
 },
 "nbformat": 4,
 "nbformat_minor": 5
}
